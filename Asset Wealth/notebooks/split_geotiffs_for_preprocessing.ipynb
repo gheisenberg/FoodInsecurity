{
 "cells": [
  {
   "cell_type": "code",
   "execution_count": 1,
   "id": "4af2827b",
   "metadata": {},
   "outputs": [],
   "source": [
    "import os\n",
    "import sys\n",
    "\n",
    "sys.path.append(\"..\")\n",
    "\n",
    "from shutil import copyfile\n",
    "\n",
    "from src.config import csv_path\n",
    "from src.config import download_path_s2\n",
    "from src.config import download_path_viirs\n",
    "from src.config import countries\n",
    "\n",
    "from src.data_utils import combine_wealth_dfs\n",
    "from src.data_utils import get_label_for_img\n",
    "\n",
    "\n",
    "sentinel_prep_path = '/mnt/datadisk/data/Sentinel2/preprocessed/asset/'\n",
    "viirs_prep_path = '/mnt/datadisk/data/VIIRS/preprocessed/asset/'"
   ]
  },
  {
   "cell_type": "markdown",
   "id": "b1bbbe68",
   "metadata": {},
   "source": [
    "# Sentinel-2\n",
    "## Separate Urban and Rural Files"
   ]
  },
  {
   "cell_type": "code",
   "execution_count": 3,
   "id": "bfdd74d8",
   "metadata": {},
   "outputs": [],
   "source": [
    "urban_files = []\n",
    "rural_files = []"
   ]
  },
  {
   "cell_type": "code",
   "execution_count": 4,
   "id": "8dd9fbbf",
   "metadata": {},
   "outputs": [],
   "source": [
    "dir_list = [directory for directory in os.listdir(download_path_s2) if os.path.isdir(os.path.join(download_path_s2,directory)) and any(country in directory for country in countries)]\n",
    "\n",
    "for directory in dir_list:\n",
    "    urban_files.extend([os.path.join(directory,file) for file in os.listdir(os.path.join(download_path_s2,directory))\n",
    "                        if file.endswith(\"u_2.0.tif\")])\n",
    "    rural_files.extend([os.path.join(directory, file) for file in os.listdir(os.path.join(download_path_s2,directory))\n",
    "                        if file.endswith(\"r_10.0.tif\")])\n",
    "                                                                                    "
   ]
  },
  {
   "cell_type": "markdown",
   "id": "48965591",
   "metadata": {},
   "source": [
    "### Copy to preprocessing directory (separated by type of region)"
   ]
  },
  {
   "cell_type": "code",
   "execution_count": 17,
   "id": "3c89079d",
   "metadata": {},
   "outputs": [
    {
     "data": {
      "text/plain": [
       "'/mnt/datadisk/data/Sentinel2/preprocessed/asset/rural/all'"
      ]
     },
     "execution_count": 17,
     "metadata": {},
     "output_type": "execute_result"
    }
   ],
   "source": [
    "s2_urban_all_path = os.path.join(sentinel_prep_path, \"urban\", \"all\")\n",
    "s2_rural_all_path = os.path.join(sentinel_prep_path, \"rural\", \"all\")"
   ]
  },
  {
   "cell_type": "code",
   "execution_count": null,
   "id": "ac88a020",
   "metadata": {},
   "outputs": [],
   "source": [
    "for file in urban_files:\n",
    "    copyfile(os.path.join(download_path_s2,file), os.path.join(s2_urban_all_path, file))\n",
    "for file in urban_files:\n",
    "    copyfile(os.path.join(download_path_s2, file), os.path.join(s2_rural_all_path file))"
   ]
  },
  {
   "cell_type": "markdown",
   "id": "e770c450",
   "metadata": {},
   "source": [
    "## Get Images for 2012-2014 and 2016-2020"
   ]
  },
  {
   "cell_type": "code",
   "execution_count": null,
   "id": "cbe81655",
   "metadata": {},
   "outputs": [],
   "source": [
    "wealth_df = combine_wealth(csv_path)\n",
    "for filename in os.listdir(s2_urban_all_path):\n",
    "    year = get_label_for_img(wealth_df, filename).SURVEY_YEAR\n",
    "    if year < 2015:\n",
    "        copyfile(os.path.join(s2_urban_all_path, filename), os.path.join(s2_rural_all_path[:-3],'2012_2014',filename))\n",
    "    elif year > 2015:\n",
    "        copyfile(os.path.join(s2_rural_all_path, filename), os.path.join(s2_rural_all_path[:-3],'2016_2020',filename))\n",
    "        \n",
    "for filename in os.listdir(s2_rural_all_path):\n",
    "    year = get_label_for_img(wealth_df, filename).SURVEY_YEAR\n",
    "    if year < 2015:\n",
    "        copyfile(os.path.join(s2_rural_all_path, filename), os.path.join(s2_rural_all_path[:-3],'2012_2014',filename))\n",
    "    elif year > 2015:\n",
    "        copyfile(os.path.join(s2_rural_all_path, filename), os.path.join(s2_rural_all_path[:-3],'2016_2020',filename))  \n",
    "    "
   ]
  },
  {
   "cell_type": "markdown",
   "id": "11f3e28c",
   "metadata": {},
   "source": [
    "# VIIRS\n",
    "## Separate Urban and Rural Files"
   ]
  },
  {
   "cell_type": "code",
   "execution_count": 19,
   "id": "30aab7eb",
   "metadata": {},
   "outputs": [],
   "source": [
    "urban_files = []\n",
    "rural_files = []"
   ]
  },
  {
   "cell_type": "code",
   "execution_count": 20,
   "id": "13784801",
   "metadata": {},
   "outputs": [],
   "source": [
    "dir_list = [directory for directory in os.listdir(download_path_viirs) if os.path.isdir(os.path.join(download_path_viirs,directory)) and any(country in directory for country in countries)]\n",
    "\n",
    "for directory in dir_list:\n",
    "    urban_files.extend([os.path.join(directory,file) for file in os.listdir(os.path.join(download_path_viirs,directory))\n",
    "                        if file.endswith(\"u_2.0.tif\")])\n",
    "    rural_files.extend([os.path.join(directory, file) for file in os.listdir(os.path.join(download_path_viirs,directory))\n",
    "                        if file.endswith(\"r_10.0.tif\")])\n",
    "                                                                                    "
   ]
  },
  {
   "cell_type": "markdown",
   "id": "23658ce6",
   "metadata": {},
   "source": [
    "### Copy to preprocessing directory (separated by type of region)"
   ]
  },
  {
   "cell_type": "code",
   "execution_count": 22,
   "id": "f6b1870d",
   "metadata": {},
   "outputs": [],
   "source": [
    "viirs_urban_all_path = os.path.join(viirs_prep_path, \"urban\", \"all\")\n",
    "viirs_rural_all_path = os.path.join(viirs_prep_path, \"rural\", \"all\")"
   ]
  },
  {
   "cell_type": "code",
   "execution_count": null,
   "id": "89eaf70d",
   "metadata": {},
   "outputs": [],
   "source": [
    "for file in urban_files:\n",
    "    copyfile(os.path.join(download_path_viirs,file), os.path.join(viirs_urban_all_path, file))\n",
    "for file in urban_files:\n",
    "    copyfile(os.path.join(download_path_viirs, file), os.path.join(viirs_rural_all_path file))"
   ]
  },
  {
   "cell_type": "markdown",
   "id": "74db7ca8",
   "metadata": {},
   "source": [
    "## Get Images for 2012-2014 and 2016-2020"
   ]
  },
  {
   "cell_type": "code",
   "execution_count": null,
   "id": "2b1c387e",
   "metadata": {},
   "outputs": [],
   "source": [
    "for filename in os.listdir(viirs_urban_all_path):\n",
    "    year = get_label_for_img(wealth_df, filename).SURVEY_YEAR\n",
    "    if year < 2015:\n",
    "        copyfile(os.path.join(viirs_urban_all_path, filename), os.path.join(viirs_urban_all_path[:-3],'2012_2014',filename))\n",
    "    elif year > 2015:\n",
    "        copyfile(os.path.join(viirs_urban_all_path, filename), os.path.join(viirs_urban_all_path[:-3],'2016_2020',filename))\n",
    "        \n",
    "for filename in os.listdir(s2_rural_all_path):\n",
    "    year = get_label_for_img(wealth_df, filename).SURVEY_YEAR\n",
    "    if year < 2015:\n",
    "        copyfile(os.path.join(s2_rural_all_path, filename), os.path.join(s2_rural_all_path[:-3],'2012_2014',filename))\n",
    "    elif year > 2015:\n",
    "        copyfile(os.path.join(s2_rural_all_path, filename), os.path.join(s2_rural_all_path[:-3],'2016_2020',filename))  \n",
    "    "
   ]
  }
 ],
 "metadata": {
  "kernelspec": {
   "display_name": "Python 3 (ipykernel)",
   "language": "python",
   "name": "python3"
  },
  "language_info": {
   "codemirror_mode": {
    "name": "ipython",
    "version": 3
   },
   "file_extension": ".py",
   "mimetype": "text/x-python",
   "name": "python",
   "nbconvert_exporter": "python",
   "pygments_lexer": "ipython3",
   "version": "3.8.8"
  }
 },
 "nbformat": 4,
 "nbformat_minor": 5
}
