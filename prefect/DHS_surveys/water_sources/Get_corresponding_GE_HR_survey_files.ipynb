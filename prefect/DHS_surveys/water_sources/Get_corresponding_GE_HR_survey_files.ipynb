{
 "cells": [
  {
   "cell_type": "markdown",
   "id": "9e6eb23f",
   "metadata": {},
   "source": [
    "# Purpose\n",
    "\n",
    "This code aims at creating a (csv-file) which connects HR-Files and GE-Files of the same survey to each other.\n",
    "The final file will store for each survey the HR-File name, the GE-file name, the year (derived from the GE-file) and the country abbreviation.\n",
    "\n",
    "This code assumes that the program ***creating_water_source_files*** was already executed successfully. Hence, all HR-Files which do not have a corresponding GE-File are saved in a seperate folder.\n"
   ]
  },
  {
   "cell_type": "code",
   "execution_count": 1,
   "id": "b5958780",
   "metadata": {},
   "outputs": [],
   "source": [
    "import os\n",
    "import pandas as pd\n",
    "import numpy as np"
   ]
  },
  {
   "cell_type": "code",
   "execution_count": 4,
   "id": "4f0b15e5",
   "metadata": {},
   "outputs": [],
   "source": [
    "def check_year_country (gps_dir:str, water_file:str):\n",
    "\n",
    "    dir_gps = os.listdir(gps_dir)\n",
    "     \n",
    "    for gps_csv in dir_gps:\n",
    "        if gps_csv.endswith('.csv'):\n",
    "            gps_file = os.path.join(gps_dir, gps_csv)\n",
    "            gps_years = pd.read_csv(gps_file, usecols = ['year'])\n",
    "            #Take the year of the GE file from a random cluster (here 1) as reference year\n",
    "            gps_year = gps_years.iloc[1]['year']\n",
    "            water_years = pd.read_csv(water_file, usecols = ['year'])\n",
    "            #if gps_year['year'].equals(water_year['year']):\n",
    "            #Jump into if-clause if the reference year is contained at least once in the year column of the HR file\n",
    "            if any(water_years.iloc[i]['year'] == gps_year for i in range(len(water_years))):\n",
    "                #Jump into if-clause if the number of clusters is the same\n",
    "                if len(gps_years) == len(water_years):\n",
    "                    #Get the country abbreviation from the HR and the GE file\n",
    "                    country_gps = os.path.basename(gps_file)[:2]\n",
    "                    country_water = os.path.basename(water_file)[:2]\n",
    "                    #If the country abbreviations are identical, return the survey name of the GE file\n",
    "                    if country_gps == country_water:\n",
    "                        #water = os.path.basename(water_file[:water_file.rfind('-')])\n",
    "                        gps = os.path.basename(gps_file[:gps_file.rfind(\".\")])\n",
    "                        return gps\n",
    "    # Returns None for Ge survey name if no corresponding Ge file for the current HR file was found\n",
    "    return None\n",
    "\n",
    "#Get for the final data frame (before list) the year and the country from the GeoData file\n",
    "def ge_year_country(ge_dir:str, ge_name:str):\n",
    "    \n",
    "    ge_file = os.path.join(ge_dir, ge_name+'.csv')\n",
    "    #Get year\n",
    "    ge_years = pd.read_csv(ge_file, usecols = ['year'])\n",
    "    ge_year = ge_years.iloc[1]['year']\n",
    "    #Get country\n",
    "    ge_country = os.path.basename(ge_name)[:2]\n",
    "    \n",
    "    return int(ge_year), ge_country\n",
    "\n",
    "def create_correspondes_file(hr_dir:str,ge_dir:str):\n",
    "    \n",
    "    hr_files = os.listdir(hr_dir)\n",
    "    ge_files = os.listdir(ge_dir)\n",
    "    corr_columns = ['HR', 'GE', 'country', 'year']\n",
    "    corr_list = []\n",
    "    \n",
    "    for hr_file in hr_files:\n",
    "        if hr_file.endswith('.csv'):\n",
    "            #Get HR survey name\n",
    "            hr_name = hr_file[:hr_file.rfind('-')]\n",
    "            possible_gps_name = hr_name.replace('HR', 'GE', 1)\n",
    "            #Check if name is identical for HR csv file and GE csv file if HR is replaced with GE\n",
    "            if any(possible_gps_name in ge_file for ge_file in ge_files):\n",
    "                ge_name = possible_gps_name\n",
    "            #Check if year, cluster number & country are identical between HR survey and a GE file via check_year_country()\n",
    "            else:\n",
    "                hr_file_path = os.path.join(hr_dir, hr_file)\n",
    "                ge_name = check_year_country(ge_dir, hr_file_path)\n",
    "            #True if a correspondence was given\n",
    "            if ge_name is not None:\n",
    "                #Add corresponding HR and GE files to list \n",
    "                year, country = ge_year_country(ge_dir, ge_name)\n",
    "                survey_list = [hr_name, ge_name, country, year]\n",
    "                corr_list.append(survey_list)\n",
    "    \n",
    "    #Turn list into pandas data frame with corresponding columns and save it as csv\n",
    "    corr_array = np.array(corr_list)\n",
    "    corr_df = pd.DataFrame(corr_array, columns = corr_columns)\n",
    "            \n",
    "    return(corr_df)"
   ]
  },
  {
   "cell_type": "code",
   "execution_count": 5,
   "id": "81176fb9",
   "metadata": {},
   "outputs": [],
   "source": [
    "#Main\n",
    "hr_dir = '/home/shannon/Dokumente/Dokumente/studium/ASA/Projekt/SatelliteImage__GEE/correlation/SAV_Data/water-source'\n",
    "ge_dir = '/home/shannon/Dokumente/Dokumente/studium/ASA/Projekt/SatelliteImage__GEE/correlation/GPS_Data/gps_csv'\n",
    "#Path we want to save the correspondence file to\n",
    "corr_path = os.path.join('/home/shannon/Dokumente/Dokumente/studium/ASA/Projekt/NN/sentinel', 'corresponding_ge_hr_survey.csv')\n",
    "\n",
    "corr_df = create_correspondes_file(hr_dir,ge_dir)\n",
    "#Save file as csv\n",
    "corr_df.to_csv(corr_path,index = False)\n"
   ]
  },
  {
   "cell_type": "code",
   "execution_count": null,
   "id": "f3300597",
   "metadata": {},
   "outputs": [],
   "source": []
  }
 ],
 "metadata": {
  "kernelspec": {
   "display_name": "Python 3",
   "language": "python",
   "name": "python3"
  },
  "language_info": {
   "codemirror_mode": {
    "name": "ipython",
    "version": 3
   },
   "file_extension": ".py",
   "mimetype": "text/x-python",
   "name": "python",
   "nbconvert_exporter": "python",
   "pygments_lexer": "ipython3",
   "version": "3.7.10"
  }
 },
 "nbformat": 4,
 "nbformat_minor": 5
}
