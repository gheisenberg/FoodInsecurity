{
 "cells": [
  {
   "cell_type": "code",
   "execution_count": 33,
   "id": "cd17061b",
   "metadata": {},
   "outputs": [],
   "source": [
    "import ee\n",
    "ee.Initialize()"
   ]
  },
  {
   "cell_type": "code",
   "execution_count": 34,
   "id": "d136d3e7",
   "metadata": {},
   "outputs": [],
   "source": [
    "import ee\n",
    "import geemap\n",
    "import os\n",
    "import functools"
   ]
  },
  {
   "cell_type": "code",
   "execution_count": 35,
   "id": "e1f42439",
   "metadata": {},
   "outputs": [],
   "source": [
    "# Function to get a square around point of interest\n",
    "# Rural : 5.5km Radius\n",
    "# Urban : 2 km Radius\n",
    "def bounding_box(loc, urban_rural):\n",
    "    if urban_rural is 'U':\n",
    "        size = 1000\n",
    "        print('Urban Areas because', cluster['urban_rural'])\n",
    "    else:\n",
    "        size = 5000\n",
    "        print('Rural Areas because', cluster['urban_rural'])\n",
    "\n",
    "    intermediate_buffer = loc.buffer(size) #buffer radius, half your box width in m\n",
    "    intermediate_box = intermediate_buffer.bounds() #Draw a bounding box around the circle\n",
    "    return(intermediate_box)"
   ]
  },
  {
   "cell_type": "code",
   "execution_count": 36,
   "id": "33d6a4d4",
   "metadata": {},
   "outputs": [],
   "source": [
    "def maskClouds(img, MAX_CLOUD_PROBABILITY):\n",
    "    #MAX_CLOUD_PROBABILITY = 65\n",
    "    clouds = ee.Image(img.get('cloud_mask')).select('probability')\n",
    "    isNotCloud = clouds.lt(MAX_CLOUD_PROBABILITY)\n",
    "    return img.updateMask(isNotCloud)"
   ]
  },
  {
   "cell_type": "code",
   "execution_count": 37,
   "id": "494e6e30",
   "metadata": {},
   "outputs": [],
   "source": [
    "def maskEdges(s2_img):\n",
    "  return s2_img.updateMask(s2_img.select('B8A').mask().updateMask(s2_img.select('B9').mask()))"
   ]
  },
  {
   "cell_type": "code",
   "execution_count": 38,
   "id": "08c77761",
   "metadata": {},
   "outputs": [],
   "source": [
    "def get_image(cluster):\n",
    "    \n",
    "    print('Getting cluster', cluster['ID'])\n",
    "    s2Sr = ee.ImageCollection('COPERNICUS/S2_SR');\n",
    "    s2Clouds = ee.ImageCollection('COPERNICUS/S2_CLOUD_PROBABILITY')\n",
    "\n",
    "    #Define parameters\n",
    "    START_DATE = ee.Date('2019-01-01')\n",
    "    END_DATE = ee.Date('2019-03-31')\n",
    "    MAX_CLOUD_PROBABILITY = 20\n",
    "   \n",
    "    #Point of interest (longitude, latidude)\n",
    "    loc = ee.Geometry.Point([cluster[\"longitude\"], cluster[\"latidude\"]])\n",
    "    #Region of interest\n",
    "    region = bounding_box(loc, cluster['urban_rural'])\n",
    "\n",
    "    # Filter input collections by desired data range and region.\n",
    "    #criteria = ee.Filter.And(ee.Filter.bounds(region), ee.Filter.date(START_DATE, END_DATE))\n",
    "    #s2Sr = s2Sr.filter(criteria).map(maskEdges)\n",
    "    #s2Clouds = s2Clouds.filter(criteria)\n",
    "    s2Sr = s2Sr.filterBounds(region).filterDate(START_DATE, END_DATE).map(maskEdges)\n",
    "    s2Clouds = s2Clouds.filterBounds(region).filterDate(START_DATE, END_DATE)\n",
    "\n",
    "    # Join S2 SR with cloud probability dataset to add cloud mask.\n",
    "    s2SrWithCloudMask = ee.Join.saveFirst('cloud_mask').apply(\n",
    "      primary =  s2Sr, \n",
    "      secondary = s2Clouds, \n",
    "      condition = ee.Filter.equals(\n",
    "          leftField =  'system:index', rightField = 'system:index') \n",
    "        )\n",
    "\n",
    "    maskCloudsWithProb = functools.partial(maskClouds, MAX_CLOUD_PROBABILITY=MAX_CLOUD_PROBABILITY)\n",
    "    s2CloudMasked = ee.ImageCollection(s2SrWithCloudMask).map(maskCloudsWithProb).median()\n",
    "    s2CloudMasked = s2CloudMasked.select(['B4','B3','B2']).clip(region)\n",
    "\n",
    "    out_dir = os.path.join(os.path.expanduser('~'), '/home/shannon/Dokumente/Dokumente/studium/ASA/Projekt/SatteliteImage__GEE/MZ007')\n",
    "    filename = os.path.join(out_dir, cluster['ID']+'.tif')\n",
    "    print(filename)\n",
    "    geemap.ee_export_image(s2CloudMasked, filename=filename, scale=10)\n",
    "    \n",
    "    return loc"
   ]
  },
  {
   "cell_type": "markdown",
   "id": "26020bfb",
   "metadata": {},
   "source": [
    "#Point of interest\n",
    "#loc = ee.Geometry.Point([11.557766, 48.140458])\n",
    "#Region of interest\n",
    "#roi = bounding_box(loc)\n",
    "\n",
    "collection = ee.ImageCollection('COPERNICUS/S2_SR') \\\n",
    "    .filterBounds(roi) \\\n",
    "    .filterDate('2020-01-01', '2020-01-31')\n",
    "\n",
    "#Direction to save it to\n",
    "out_dir = os.path.join(os.path.expanduser('~'), 'Downloads')\n",
    "#Select RGB channel to be displayed in the images and clip the whole image to region of interest.\n",
    "coll_rgb = collection.select(['B4','B3','B2']).map(lambda i: i.clip(roi))\n",
    "\n",
    "print(collection.aggregate_array('system:index').getInfo())\n",
    "\n",
    "#Export images to defined region\n",
    "geemap.ee_export_image_collection(coll_rgb, out_dir=out_dir, scale=10)\n"
   ]
  },
  {
   "cell_type": "code",
   "execution_count": null,
   "id": "47f44344",
   "metadata": {
    "scrolled": true
   },
   "outputs": [],
   "source": []
  },
  {
   "cell_type": "code",
   "execution_count": 39,
   "id": "5883904c",
   "metadata": {},
   "outputs": [
    {
     "name": "stdout",
     "output_type": "stream",
     "text": [
      "{'ID': 'MZ201100000611', 'cluster': 611.0, 'urban_rural': 'U', 'latidude': -26.011408, 'longitude': 32.931726}\n"
     ]
    }
   ],
   "source": [
    "from dbfread import DBF\n",
    "\n",
    "file = \"/home/shannon/Dokumente/Dokumente/studium/ASA/Projekt/SatteliteImage__GEE/MZGE61FL-2.dbf\"\n",
    "clusters = list()\n",
    "\n",
    "for record in DBF(file):\n",
    "    #print(record, \"\\n\")\n",
    "    #print(record['URBAN_RURA'], \"\\n\")\n",
    "    cluster = {\"ID\" : record['DHSID'], \"cluster\": record['DHSCLUST'],\\\n",
    "               \"urban_rural\": record['URBAN_RURA'], \"latidude\": record[\"LATNUM\"],\\\n",
    "              \"longitude\": record['LONGNUM']}\n",
    "    clusters.append(cluster)\n",
    "print(cluster)"
   ]
  },
  {
   "cell_type": "code",
   "execution_count": null,
   "id": "2c51d036",
   "metadata": {},
   "outputs": [],
   "source": [
    "map1 = geemap.Map()\n",
    "\n",
    "for cluster in clusters:\n",
    "    loc = get_image(cluster)\n",
    "    map1.addLayer(loc)\n"
   ]
  },
  {
   "cell_type": "code",
   "execution_count": null,
   "id": "21b67d58",
   "metadata": {},
   "outputs": [],
   "source": [
    "map1.centerObject(loc, 8)\n",
    "map1    "
   ]
  },
  {
   "cell_type": "code",
   "execution_count": null,
   "id": "2a152cb7",
   "metadata": {},
   "outputs": [],
   "source": []
  }
 ],
 "metadata": {
  "kernelspec": {
   "display_name": "Python 3",
   "language": "python",
   "name": "python3"
  },
  "language_info": {
   "codemirror_mode": {
    "name": "ipython",
    "version": 3
   },
   "file_extension": ".py",
   "mimetype": "text/x-python",
   "name": "python",
   "nbconvert_exporter": "python",
   "pygments_lexer": "ipython3",
   "version": "3.7.10"
  }
 },
 "nbformat": 4,
 "nbformat_minor": 5
}
