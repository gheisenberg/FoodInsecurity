{
 "cells": [
  {
   "cell_type": "markdown",
   "id": "64cfb01d",
   "metadata": {},
   "source": [
    "# Purpose\n",
    "\n",
    "This code aims at grouping the Sentinel Images collected beforehand via the program ***satellite_images_gee.ipynb*** w.r.t to their survey.\n",
    "Each group belongs to one survey and is saved as a Zipfile.\n",
    "\n",
    "This code assumes that ***satellite_images_gee*** was already executed and hence, the tif-files/sentinel images and the csv-file *corresponding_ge_hr_survey.csv* exist."
   ]
  },
  {
   "cell_type": "code",
   "execution_count": 24,
   "id": "e8b581d2",
   "metadata": {},
   "outputs": [],
   "source": [
    "import os\n",
    "import shutil"
   ]
  },
  {
   "cell_type": "code",
   "execution_count": 22,
   "id": "fbe02b56",
   "metadata": {},
   "outputs": [],
   "source": [
    "#Move every tif data which has the survey name as part of its name to its corresponding survey folder\n",
    "def move_surveys_tifs(folder, folder_dir, tif_dir):\n",
    "    \n",
    "    tifs = os.listdir(tif_dir)\n",
    "    \n",
    "    for tif in tifs:\n",
    "        if folder in tif:\n",
    "            new_path = os.path.join(folder_dir, tif)\n",
    "            current_path = os.path.join(tif_dir, tif)\n",
    "            os.rename(current_path, new_path)\n",
    "\n",
    "#To exclude hidden folder from list we use to iterate over\n",
    "def listdir_nohidden(path):\n",
    "    for f in os.listdir(path):\n",
    "        if not f.startswith('.'):\n",
    "            yield f\n",
    "        \n",
    "#For each survey folder execute move_survey_tifs\n",
    "def move_imgs_to_folder(tif_dir,folders_dir):\n",
    "    \n",
    "    folders = listdir_nohidden(folders_dir)\n",
    "    for folder in folders:\n",
    "        folder_dir = os.path.join(folders_dir, folder)\n",
    "        if os.path.isdir(folder_dir):\n",
    "            move_surveys_tifs(folder, folder_dir, tif_dir)"
   ]
  },
  {
   "cell_type": "code",
   "execution_count": 33,
   "id": "af238d7a",
   "metadata": {},
   "outputs": [],
   "source": [
    "def zip_and_delete_folders(folders_dir):\n",
    "    \n",
    "    folders = listdir_nohidden(folders_dir)\n",
    "    \n",
    "    for folder in folders:\n",
    "        folder_dir = os.path.join(folders_dir, folder)\n",
    "        if os.path.isdir(folder_dir):\n",
    "            zip_dir = os.path.join(folders_dir, 'test'+folder+'.zip')\n",
    "            shutil.make_archive(zip_dir, 'zip', folder_dir)\n",
    "            shutil.rmtree(folder_dir)"
   ]
  },
  {
   "cell_type": "code",
   "execution_count": 34,
   "id": "8b05bc0a",
   "metadata": {},
   "outputs": [],
   "source": [
    "#Path to folder where all the sentinel images (tif-files) are stored (directory defined in code  satellite_images_gee)\n",
    "tif_dir = '/run/media/shannon/TOSHIBA/sentinel/sentinel'\n",
    "#Path to directory where the survey folders are stored (directory defined in code  satellite_images_gee)\n",
    "survey_folders_dir = '/run/media/shannon/TOSHIBA/Sentinel'\n",
    "\n",
    "move_imgs_to_folder(tif_dir, survey_folders_dir)\n",
    "zip_and_delete_folders(survey_folders_dir)"
   ]
  },
  {
   "cell_type": "code",
   "execution_count": null,
   "id": "43ad1448",
   "metadata": {},
   "outputs": [],
   "source": []
  }
 ],
 "metadata": {
  "kernelspec": {
   "display_name": "Python 3",
   "language": "python",
   "name": "python3"
  },
  "language_info": {
   "codemirror_mode": {
    "name": "ipython",
    "version": 3
   },
   "file_extension": ".py",
   "mimetype": "text/x-python",
   "name": "python",
   "nbconvert_exporter": "python",
   "pygments_lexer": "ipython3",
   "version": "3.7.10"
  }
 },
 "nbformat": 4,
 "nbformat_minor": 5
}
