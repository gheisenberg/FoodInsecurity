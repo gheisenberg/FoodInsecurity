{
 "cells": [
  {
   "cell_type": "markdown",
   "id": "d044af50",
   "metadata": {},
   "source": [
    "# Purpose\n",
    "\n",
    "This code aims at grouping the Sentinel Images collected beforehand via the program ***satellite_images_gee.ipynb*** w.r.t to their survey. \n",
    "Each group belongs to one survey and is saved as a Zipfile.\n",
    "\n",
    "This code assumes that ***satellite_images_gee*** was already executed and hence, the tif-files/sentinel images and the corresponding survey folders exist. Furthermore, it is assumed that the satellite images are retrieved from your Google Drive to a local directory.\n",
    "\n",
    "\n",
    "-25.08.2021-"
   ]
  },
  {
   "cell_type": "code",
   "execution_count": 35,
   "id": "37e5b12f",
   "metadata": {},
   "outputs": [],
   "source": [
    "import os\n",
    "import shutil"
   ]
  },
  {
   "cell_type": "code",
   "execution_count": 36,
   "id": "d400fa0d",
   "metadata": {},
   "outputs": [],
   "source": [
    "#Move every tif data which has the survey name as part of its name to its corresponding survey folder\n",
    "def move_surveys_tifs(folder:str, folder_dir:str, tif_dir:str):\n",
    "    \n",
    "    tifs = os.listdir(tif_dir)\n",
    "    \n",
    "    for tif in tifs:\n",
    "        if folder in tif:\n",
    "            new_path = os.path.join(folder_dir, tif)\n",
    "            current_path = os.path.join(tif_dir, tif)\n",
    "            os.rename(current_path, new_path)\n",
    "\n",
    "#To exclude hidden folder from list we use to iterate over\n",
    "def listdir_nohidden(path:str):\n",
    "    for f in os.listdir(path):\n",
    "        if not f.startswith('.'):\n",
    "            yield f\n",
    "        \n",
    "#For each survey folder execute move_survey_tifs\n",
    "def move_imgs_to_folder(tif_dir:str,folders_dir:str):\n",
    "    \n",
    "    folders = listdir_nohidden(folders_dir)\n",
    "    for folder in folders:\n",
    "        folder_dir = os.path.join(folders_dir, folder)\n",
    "        if os.path.isdir(folder_dir):\n",
    "            move_surveys_tifs(folder, folder_dir, tif_dir)"
   ]
  },
  {
   "cell_type": "code",
   "execution_count": 37,
   "id": "94369c0b",
   "metadata": {},
   "outputs": [],
   "source": [
    "#Turn folders into zip data (to minimze required memory capacity) and delete folders afterwards \n",
    "def zip_and_delete_folders(folders_dir:str):\n",
    "    \n",
    "    folders = listdir_nohidden(folders_dir)\n",
    "    \n",
    "    for folder in folders:\n",
    "        folder_dir = os.path.join(folders_dir, folder)\n",
    "        if os.path.isdir(folder_dir):\n",
    "            zip_dir = os.path.join(folders_dir, 'test'+folder+'.zip')\n",
    "            shutil.make_archive(zip_dir, 'zip', folder_dir)\n",
    "            shutil.rmtree(folder_dir)"
   ]
  },
  {
   "cell_type": "code",
   "execution_count": 38,
   "id": "67068c77",
   "metadata": {},
   "outputs": [],
   "source": [
    "#Path to folder where all the sentinel images (tif-files) are stored \n",
    "#directory to which the retrieved images from Google Drive are downloaded to e.g. via the gdrive programs\n",
    "tif_dir = '/run/media/shannon/TOSHIBA/sentinel/sentinel'\n",
    "#Path to directory where the survey folders are stored (directory defined in code  satellite_images_gee)\n",
    "survey_folders_dir = '/run/media/shannon/TOSHIBA/Sentinel'\n",
    "\n",
    "move_imgs_to_folder(tif_dir:str, survey_folders_dir:str)\n",
    "\n",
    "zip_and_delete_folders(survey_folders_dir:str)"
   ]
  },
  {
   "cell_type": "code",
   "execution_count": null,
   "id": "b854edb4",
   "metadata": {},
   "outputs": [],
   "source": []
  }
 ],
 "metadata": {
  "kernelspec": {
   "display_name": "Python 3 (ipykernel)",
   "language": "python",
   "name": "python3"
  },
  "language_info": {
   "codemirror_mode": {
    "name": "ipython",
    "version": 3
   },
   "file_extension": ".py",
   "mimetype": "text/x-python",
   "name": "python",
   "nbconvert_exporter": "python",
   "pygments_lexer": "ipython3",
   "version": "3.8.10"
  }
 },
 "nbformat": 4,
 "nbformat_minor": 5
}
