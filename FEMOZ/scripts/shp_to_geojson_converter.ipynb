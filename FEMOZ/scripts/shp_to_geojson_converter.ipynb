{
 "cells": [
  {
   "cell_type": "markdown",
   "source": [
    "<img src=\"https://www.th-koeln.de/img/logo.svg\" style=\"float: right;\" width=\"200\">\n",
    "<img src=\"https://www.femoz.de/assets/templates/femoz/images/logo-head-02.png\" style=\"float: left;\" width=\"200\">\n",
    "<p style=\"text-align:center;\"><br><br>Project: FEMOZ<br>\n",
    "Author of notebook: Florian Schmitt<br>\n",
    "Date: 13.12.2022</p>"
   ],
   "metadata": {
    "collapsed": false,
    "pycharm": {
     "name": "#%% md\n"
    }
   }
  },
  {
   "cell_type": "code",
   "execution_count": 22,
   "outputs": [],
   "source": [
    "# import the necessary modules\n",
    "import geopandas as gpd"
   ],
   "metadata": {
    "collapsed": false,
    "pycharm": {
     "name": "#%%\n"
    }
   }
  },
  {
   "cell_type": "code",
   "execution_count": 23,
   "outputs": [],
   "source": [
    "# create list of layers to loop through\n",
    "layers = [\"adm1\", \"adm2\"]\n",
    "\n",
    "for layer in layers:\n",
    "    # load shapefile\n",
    "    shp = gpd.read_file(f\"C:/Users/flori/sciebo/femoz_iws/data_lake/dashboard_testdata/GAUL/gaul2015-2014_{layer}.shp\")\n",
    "\n",
    "    # filter the shapefile for the country of Mozambique\n",
    "    shp = shp[shp[\"adm0_name\"] == \"Mozambique\"]\n",
    "\n",
    "    # remove lake niassa from dataset\n",
    "    shp = shp[shp[\"adm1_name\"]!=\"Lago niassa\"]\n",
    "\n",
    "    # convert the shapefile to GeoJSON\n",
    "    geojson = shp.to_json()\n",
    "\n",
    "    # save the GeoJSON to a file\n",
    "    with open(f\"C:/Users/flori/sciebo/femoz_iws/data_lake/IWS/FLORIAN/GAUL GEOJSONs/{layer}.json\", \"w\") as f:\n",
    "        f.write(geojson)"
   ],
   "metadata": {
    "collapsed": false,
    "pycharm": {
     "name": "#%%\n"
    }
   }
  },
  {
   "cell_type": "code",
   "execution_count": 32,
   "outputs": [],
   "source": [
    "# read in the GeoJSON file\n",
    "gdf = gpd.read_file(\"C:/Users/flori/sciebo/femoz_iws/data_lake/IWS/FLORIAN/GAUL GEOJSONs/adm1.json\")\n",
    "\n",
    "# create the plot\n",
    "gdf[[\"id\", \"FID\", \"adm1_code\", \"adm1_name\", \"gml_id\"]].to_clipboard()"
   ],
   "metadata": {
    "collapsed": false,
    "pycharm": {
     "name": "#%%\n"
    }
   }
  },
  {
   "cell_type": "code",
   "execution_count": 35,
   "outputs": [],
   "source": [
    "# Read in the GeoJSON file\n",
    "gdf = gpd.read_file(\"C:/Users/flori/sciebo/femoz_iws/data_lake/IWS/FLORIAN/GAUL GEOJSONs/adm2.json\")\n",
    "\n",
    "# create the plot\n",
    "gdf[[\"id\", \"FID\", \"adm1_code\", \"adm1_name\", \"adm2_code\", \"adm2_name\"]].to_clipboard()"
   ],
   "metadata": {
    "collapsed": false,
    "pycharm": {
     "name": "#%%\n"
    }
   }
  }
 ],
 "metadata": {
  "kernelspec": {
   "display_name": "Python 3",
   "language": "python",
   "name": "python3"
  },
  "language_info": {
   "codemirror_mode": {
    "name": "ipython",
    "version": 2
   },
   "file_extension": ".py",
   "mimetype": "text/x-python",
   "name": "python",
   "nbconvert_exporter": "python",
   "pygments_lexer": "ipython2",
   "version": "2.7.6"
  }
 },
 "nbformat": 4,
 "nbformat_minor": 0
}