{
 "cells": [
  {
   "cell_type": "markdown",
   "source": [
    "<img src=\"https://www.th-koeln.de/img/logo.svg\" style=\"float: right;\" width=\"200\">\n",
    "<img src=\"https://www.femoz.de/assets/templates/femoz/images/logo-head-02.png\" style=\"float: left;\" width=\"200\">\n",
    "<p style=\"text-align:center;\"><br><br>Project: FEMOZ<br>\n",
    "Author of notebook: Florian Schmitt<br>\n",
    "Date: 25.10.2022</p>"
   ],
   "metadata": {
    "collapsed": false,
    "pycharm": {
     "name": "#%% md\n"
    }
   }
  },
  {
   "cell_type": "markdown",
   "source": [
    "# Create sample data for water prediction"
   ],
   "metadata": {
    "collapsed": false,
    "pycharm": {
     "name": "#%% md\n"
    }
   }
  },
  {
   "cell_type": "code",
   "execution_count": 36,
   "outputs": [],
   "source": [
    "# load libraries\n",
    "import pandas as pd\n",
    "from sqlalchemy import MetaData, create_engine\n",
    "import psycopg2\n",
    "from random import random, uniform"
   ],
   "metadata": {
    "collapsed": false,
    "pycharm": {
     "name": "#%%\n"
    }
   }
  },
  {
   "cell_type": "code",
   "execution_count": 37,
   "outputs": [
    {
     "name": "stdout",
     "output_type": "stream",
     "text": [
      "Connection to the PostgreSQL established successfully.\n"
     ]
    }
   ],
   "source": [
    "# connect to db\n",
    "def get_connection():\n",
    "    try:\n",
    "        return psycopg2.connect(\n",
    "            database ='raw_data_db',\n",
    "            user = 'fschmitt',\n",
    "            password = 'jksHI93!)sewOl',\n",
    "            host = '139.6.160.28',\n",
    "            port = 5432,\n",
    "        )\n",
    "    except:\n",
    "        return False\n",
    "\n",
    "conn = get_connection()\n",
    "\n",
    "if conn:\n",
    "    # report status\n",
    "    print('Connection to the PostgreSQL established successfully.')\n",
    "else:\n",
    "    # report status\n",
    "    print('Connection to the PostgreSQL encountered and error.')"
   ],
   "metadata": {
    "collapsed": false,
    "pycharm": {
     "name": "#%%\n"
    }
   }
  },
  {
   "cell_type": "code",
   "execution_count": 38,
   "outputs": [
    {
     "name": "stdout",
     "output_type": "stream",
     "text": [
      "Table successfully loaded.\n"
     ]
    }
   ],
   "source": [
    "# Get table from raw_data_db\n",
    "def get_data(table):\n",
    "    try:\n",
    "        # open connection\n",
    "        conn = get_connection()\n",
    "\n",
    "        # create a cursor using the connection object\n",
    "        curr = conn.cursor()\n",
    "\n",
    "        # execute the sql query\n",
    "        curr.execute('SELECT * FROM ' + table + ';')\n",
    "\n",
    "        # fetch colukmn headers\n",
    "        column_names = [i[0] for i in curr.description]\n",
    "\n",
    "        # fetch all the rows from the cursor\n",
    "        data = curr.fetchall()\n",
    "\n",
    "        # compile into dataframe\n",
    "        df = pd.DataFrame.from_records(data, columns = column_names)\n",
    "\n",
    "        # close connection\n",
    "        conn.close()\n",
    "\n",
    "        # report status\n",
    "        print('Table successfully loaded.')\n",
    "\n",
    "        # return result\n",
    "        return df\n",
    "    except:\n",
    "        # report status\n",
    "        print('An error ocurred.')\n",
    "\n",
    "\n",
    "# define table to be loaded\n",
    "table = 'admin_2'\n",
    "\n",
    "# execute get function\n",
    "admin_2 = get_data(table)"
   ],
   "metadata": {
    "collapsed": false,
    "pycharm": {
     "name": "#%%\n"
    }
   }
  },
  {
   "cell_type": "code",
   "execution_count": 39,
   "outputs": [],
   "source": [
    "# create lists containing the setup data\n",
    "\n",
    "# get list of ids from admin_2\n",
    "id_list = list(admin_2.id_2)\n",
    "\n",
    "# create list with different water supply types\n",
    "#water = ['pipe', 'ground', 'surface']\n",
    "\n",
    "# create list with year buckets\n",
    "years = ['2011-2014', '2015-2018', '2019-2022']\n",
    "\n",
    "# create list with value types\n",
    "types = ['prediction', 'actual']"
   ],
   "metadata": {
    "collapsed": false,
    "pycharm": {
     "name": "#%%\n"
    }
   }
  },
  {
   "cell_type": "code",
   "execution_count": 48,
   "outputs": [],
   "source": [
    "# create list to store results of for loop\n",
    "results = []\n",
    "\n",
    "for id in id_list:\n",
    "    for year in years:\n",
    "        for type in types:\n",
    "            # generate random percentage values for water supply types\n",
    "            value_ground = random()\n",
    "            value_pipe = uniform(0,1-value_ground)\n",
    "            value_surface = 1-value_ground-value_pipe\n",
    "\n",
    "            # add to results list\n",
    "            results.append([year, id, type, 'water', 'ground', round(value_ground, 4)])\n",
    "            results.append([year, id, type, 'water', 'pipe', round(value_pipe, 4)])\n",
    "            results.append([year, id, type, 'water', 'surface', round(value_surface, 4)])\n",
    "\n",
    "            # generate random percentage values for education level types\n",
    "            value_0_4 = random()\n",
    "            value_5_7 = uniform(0,1-value_0_4)\n",
    "            value_8_10 = uniform(0,1-value_5_7-value_0_4)\n",
    "            value_11_more = 1-value_8_10-value_5_7-value_0_4\n",
    "\n",
    "            # add to results list\n",
    "            results.append([year, id, type, 'education', '0-4 years', round(value_0_4, 4)])\n",
    "            results.append([year, id, type, 'education', '5-7 years', round(value_5_7, 4)])\n",
    "            results.append([year, id, type, 'education', '8-10 years', round(value_8_10, 4)])\n",
    "            results.append([year, id, type, 'education', '11+ years', round(value_11_more, 4)])"
   ],
   "metadata": {
    "collapsed": false,
    "pycharm": {
     "name": "#%%\n"
    }
   }
  },
  {
   "cell_type": "code",
   "execution_count": 49,
   "outputs": [],
   "source": [
    "# write result list into csv file\n",
    "pd.DataFrame(results).to_csv('sample_data.csv', index = False, header = ['year', 'id_2', 'value_type', 'measure', 'attribute', 'value'])"
   ],
   "metadata": {
    "collapsed": false,
    "pycharm": {
     "name": "#%%\n"
    }
   }
  }
 ],
 "metadata": {
  "kernelspec": {
   "display_name": "Python 3",
   "language": "python",
   "name": "python3"
  },
  "language_info": {
   "codemirror_mode": {
    "name": "ipython",
    "version": 2
   },
   "file_extension": ".py",
   "mimetype": "text/x-python",
   "name": "python",
   "nbconvert_exporter": "python",
   "pygments_lexer": "ipython2",
   "version": "2.7.6"
  }
 },
 "nbformat": 4,
 "nbformat_minor": 0
}