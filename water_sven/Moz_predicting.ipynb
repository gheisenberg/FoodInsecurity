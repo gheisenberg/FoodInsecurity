{
 "cells": [
  {
   "cell_type": "code",
   "execution_count": null,
   "metadata": {
    "collapsed": true,
    "ExecuteTime": {
     "end_time": "2023-05-24T12:36:47.549051964Z",
     "start_time": "2023-05-24T12:36:45.932780312Z"
    }
   },
   "outputs": [],
   "source": [
    "%load_ext autoreload\n",
    "%autoreload 2\n",
    "import pandas as pd\n",
    "import os\n",
    "from sklearn.preprocessing import StandardScaler, MinMaxScaler\n",
    "import numpy as np\n",
    "from tensorflow.keras.models import load_model\n",
    "import nn_utils as nnu\n",
    "import helper_utils as hu\n",
    "\n",
    "\n",
    "run_path = '/mnt/datadisk/data/Projects/water/trainH_XV2/split__out_of_country_year_all_excluded_drop_surveys_ZAuEG_MZ_in_train/PCA_w_location_weighting_all2/996x996_c432_fillmean_m2.5_rlocal_channel_mean_clipvoutlier_normZ_f31213vgg19_wimagenet_unfl100_d0_lr0.0001_momentum0.9_optimizerSGD__m_vgg19_hFalse_wFalse_1/'\n",
    "img_path = '/mnt/datadisk2/preprocessed/moz/996x996_c432_fillmean_rlocal channel mean_clipvoutlier2.5_normZ_f1135/'\n",
    "file = run_path + 'combined Mozambique.csv'\n",
    "labels_f = '/mnt/datadisk/data/Projects/water/inputs/water_labels_strat_split2.csv'\n",
    "out_p = '/mnt/datadisk/data/Projects/water/inputs/water_moz_predictions.csv'\n",
    "# print(os.path.isdir(file))"
   ]
  },
  {
   "cell_type": "code",
   "execution_count": null,
   "outputs": [
    {
     "data": {
      "text/plain": "         GEID           DHSID  \\\n0    MZGE71FL  MZ201500000141   \n1    MZGE71FL  MZ201500000158   \n2    MZGE71FL  MZ201500000157   \n3    MZGE71FL  MZ201500000078   \n4    MZGE71FL  MZ201500000182   \n..        ...             ...   \n522  MZGE7AFL  MZ201800000914   \n523  MZGE7AFL  MZ201800000403   \n524  MZGE7AFL  MZ201800000106   \n525  MZGE7AFL  MZ201800000618   \n526  MZGE7AFL  MZ201800000115   \n\n                                                  path  \\\n0    /mnt/datadisk2/preprocessed/all/996x996_c432_f...   \n1    /mnt/datadisk2/preprocessed/all/996x996_c432_f...   \n2    /mnt/datadisk2/preprocessed/all/996x996_c432_f...   \n3    /mnt/datadisk2/preprocessed/all/996x996_c432_f...   \n4    /mnt/datadisk2/preprocessed/all/996x996_c432_f...   \n..                                                 ...   \n522  /mnt/datadisk2/preprocessed/all/996x996_c432_f...   \n523  /mnt/datadisk2/preprocessed/all/996x996_c432_f...   \n524  /mnt/datadisk2/preprocessed/all/996x996_c432_f...   \n525  /mnt/datadisk2/preprocessed/all/996x996_c432_f...   \n526  /mnt/datadisk2/preprocessed/all/996x996_c432_f...   \n\n    split: out of country year all excluded drop surveys (ZAuEG) MZ in train  \\\n0                                              split 4                         \n1                                              split 4                         \n2                                              split 4                         \n3                                              split 4                         \n4                                              split 4                         \n..                                                 ...                         \n522                                            split 5                         \n523                                            split 5                         \n524                                            split 5                         \n525                                            split 5                         \n526                                            split 5                         \n\n     PCA w_location_weighting all  households   adm0_name adm1_name  \\\n0                       -0.853098          24  Mozambique    Manica   \n1                        1.123194          24  Mozambique    Maputo   \n2                       -1.369898          24  Mozambique      Gaza   \n3                       -0.443940          23  Mozambique      Gaza   \n4                        1.160413          24  Mozambique      Gaza   \n..                            ...         ...         ...       ...   \n522                     -0.890873          27  Mozambique      Gaza   \n523                     -0.397908          28  Mozambique  Zambezia   \n524                     -0.057906          28  Mozambique    Niassa   \n525                     -1.522599          28  Mozambique    Manica   \n526                     -0.245552          28  Mozambique    Niassa   \n\n        adm2_name     LATNUM    LONGNUM  DHSYEAR URBAN_RURA     label  \\\n0     Sussundenga -19.524505  33.091154   2015.0          R -0.812436   \n1         Manhica -25.389211  32.792003   2015.0          U  1.135016   \n2         Chigubo -22.356678  32.989617   2015.0          R -1.321694   \n3          Bilene -24.944068  33.359425   2015.0          R -0.409249   \n4         Xai-xai -24.857462  33.721327   2015.0          R  1.171692   \n..            ...        ...        ...      ...        ...       ...   \n522         Guija -24.004835  33.249931   2018.0          R -0.849659   \n523  Alto Molocue -15.648249  37.686719   2018.0          U -0.363889   \n524      Mandimba -14.370951  35.655547   2018.0          U -0.028848   \n525     Mossurize -20.141542  32.940524   2018.0          R -1.472167   \n526        Mavago -12.631818  36.077733   2018.0          R -0.213756   \n\n     normalized  Prediction    Actual     Error  Absolute Error  \n0     -0.812436   -0.771947 -0.812436  0.040489        0.040489  \n1      1.135016    0.761403  1.135016 -0.373613        0.373613  \n2     -1.321694   -0.438999 -1.321694  0.882696        0.882696  \n3     -0.409249    0.161739 -0.409249  0.570987        0.570987  \n4      1.171692   -0.109044  1.171692 -1.280736        1.280736  \n..          ...         ...       ...       ...             ...  \n522   -0.849659   -0.699633 -0.849659  0.150027        0.150027  \n523   -0.363889   -0.460451 -0.363889 -0.096562        0.096562  \n524   -0.028848   -0.275806 -0.028848 -0.246958        0.246958  \n525   -1.472167   -0.508386 -1.472167  0.963780        0.963780  \n526   -0.213756   -0.487332 -0.213756 -0.273576        0.273576  \n\n[527 rows x 19 columns]",
      "text/html": "<div>\n<style scoped>\n    .dataframe tbody tr th:only-of-type {\n        vertical-align: middle;\n    }\n\n    .dataframe tbody tr th {\n        vertical-align: top;\n    }\n\n    .dataframe thead th {\n        text-align: right;\n    }\n</style>\n<table border=\"1\" class=\"dataframe\">\n  <thead>\n    <tr style=\"text-align: right;\">\n      <th></th>\n      <th>GEID</th>\n      <th>DHSID</th>\n      <th>path</th>\n      <th>split: out of country year all excluded drop surveys (ZAuEG) MZ in train</th>\n      <th>PCA w_location_weighting all</th>\n      <th>households</th>\n      <th>adm0_name</th>\n      <th>adm1_name</th>\n      <th>adm2_name</th>\n      <th>LATNUM</th>\n      <th>LONGNUM</th>\n      <th>DHSYEAR</th>\n      <th>URBAN_RURA</th>\n      <th>label</th>\n      <th>normalized</th>\n      <th>Prediction</th>\n      <th>Actual</th>\n      <th>Error</th>\n      <th>Absolute Error</th>\n    </tr>\n  </thead>\n  <tbody>\n    <tr>\n      <th>0</th>\n      <td>MZGE71FL</td>\n      <td>MZ201500000141</td>\n      <td>/mnt/datadisk2/preprocessed/all/996x996_c432_f...</td>\n      <td>split 4</td>\n      <td>-0.853098</td>\n      <td>24</td>\n      <td>Mozambique</td>\n      <td>Manica</td>\n      <td>Sussundenga</td>\n      <td>-19.524505</td>\n      <td>33.091154</td>\n      <td>2015.0</td>\n      <td>R</td>\n      <td>-0.812436</td>\n      <td>-0.812436</td>\n      <td>-0.771947</td>\n      <td>-0.812436</td>\n      <td>0.040489</td>\n      <td>0.040489</td>\n    </tr>\n    <tr>\n      <th>1</th>\n      <td>MZGE71FL</td>\n      <td>MZ201500000158</td>\n      <td>/mnt/datadisk2/preprocessed/all/996x996_c432_f...</td>\n      <td>split 4</td>\n      <td>1.123194</td>\n      <td>24</td>\n      <td>Mozambique</td>\n      <td>Maputo</td>\n      <td>Manhica</td>\n      <td>-25.389211</td>\n      <td>32.792003</td>\n      <td>2015.0</td>\n      <td>U</td>\n      <td>1.135016</td>\n      <td>1.135016</td>\n      <td>0.761403</td>\n      <td>1.135016</td>\n      <td>-0.373613</td>\n      <td>0.373613</td>\n    </tr>\n    <tr>\n      <th>2</th>\n      <td>MZGE71FL</td>\n      <td>MZ201500000157</td>\n      <td>/mnt/datadisk2/preprocessed/all/996x996_c432_f...</td>\n      <td>split 4</td>\n      <td>-1.369898</td>\n      <td>24</td>\n      <td>Mozambique</td>\n      <td>Gaza</td>\n      <td>Chigubo</td>\n      <td>-22.356678</td>\n      <td>32.989617</td>\n      <td>2015.0</td>\n      <td>R</td>\n      <td>-1.321694</td>\n      <td>-1.321694</td>\n      <td>-0.438999</td>\n      <td>-1.321694</td>\n      <td>0.882696</td>\n      <td>0.882696</td>\n    </tr>\n    <tr>\n      <th>3</th>\n      <td>MZGE71FL</td>\n      <td>MZ201500000078</td>\n      <td>/mnt/datadisk2/preprocessed/all/996x996_c432_f...</td>\n      <td>split 4</td>\n      <td>-0.443940</td>\n      <td>23</td>\n      <td>Mozambique</td>\n      <td>Gaza</td>\n      <td>Bilene</td>\n      <td>-24.944068</td>\n      <td>33.359425</td>\n      <td>2015.0</td>\n      <td>R</td>\n      <td>-0.409249</td>\n      <td>-0.409249</td>\n      <td>0.161739</td>\n      <td>-0.409249</td>\n      <td>0.570987</td>\n      <td>0.570987</td>\n    </tr>\n    <tr>\n      <th>4</th>\n      <td>MZGE71FL</td>\n      <td>MZ201500000182</td>\n      <td>/mnt/datadisk2/preprocessed/all/996x996_c432_f...</td>\n      <td>split 4</td>\n      <td>1.160413</td>\n      <td>24</td>\n      <td>Mozambique</td>\n      <td>Gaza</td>\n      <td>Xai-xai</td>\n      <td>-24.857462</td>\n      <td>33.721327</td>\n      <td>2015.0</td>\n      <td>R</td>\n      <td>1.171692</td>\n      <td>1.171692</td>\n      <td>-0.109044</td>\n      <td>1.171692</td>\n      <td>-1.280736</td>\n      <td>1.280736</td>\n    </tr>\n    <tr>\n      <th>...</th>\n      <td>...</td>\n      <td>...</td>\n      <td>...</td>\n      <td>...</td>\n      <td>...</td>\n      <td>...</td>\n      <td>...</td>\n      <td>...</td>\n      <td>...</td>\n      <td>...</td>\n      <td>...</td>\n      <td>...</td>\n      <td>...</td>\n      <td>...</td>\n      <td>...</td>\n      <td>...</td>\n      <td>...</td>\n      <td>...</td>\n      <td>...</td>\n    </tr>\n    <tr>\n      <th>522</th>\n      <td>MZGE7AFL</td>\n      <td>MZ201800000914</td>\n      <td>/mnt/datadisk2/preprocessed/all/996x996_c432_f...</td>\n      <td>split 5</td>\n      <td>-0.890873</td>\n      <td>27</td>\n      <td>Mozambique</td>\n      <td>Gaza</td>\n      <td>Guija</td>\n      <td>-24.004835</td>\n      <td>33.249931</td>\n      <td>2018.0</td>\n      <td>R</td>\n      <td>-0.849659</td>\n      <td>-0.849659</td>\n      <td>-0.699633</td>\n      <td>-0.849659</td>\n      <td>0.150027</td>\n      <td>0.150027</td>\n    </tr>\n    <tr>\n      <th>523</th>\n      <td>MZGE7AFL</td>\n      <td>MZ201800000403</td>\n      <td>/mnt/datadisk2/preprocessed/all/996x996_c432_f...</td>\n      <td>split 5</td>\n      <td>-0.397908</td>\n      <td>28</td>\n      <td>Mozambique</td>\n      <td>Zambezia</td>\n      <td>Alto Molocue</td>\n      <td>-15.648249</td>\n      <td>37.686719</td>\n      <td>2018.0</td>\n      <td>U</td>\n      <td>-0.363889</td>\n      <td>-0.363889</td>\n      <td>-0.460451</td>\n      <td>-0.363889</td>\n      <td>-0.096562</td>\n      <td>0.096562</td>\n    </tr>\n    <tr>\n      <th>524</th>\n      <td>MZGE7AFL</td>\n      <td>MZ201800000106</td>\n      <td>/mnt/datadisk2/preprocessed/all/996x996_c432_f...</td>\n      <td>split 5</td>\n      <td>-0.057906</td>\n      <td>28</td>\n      <td>Mozambique</td>\n      <td>Niassa</td>\n      <td>Mandimba</td>\n      <td>-14.370951</td>\n      <td>35.655547</td>\n      <td>2018.0</td>\n      <td>U</td>\n      <td>-0.028848</td>\n      <td>-0.028848</td>\n      <td>-0.275806</td>\n      <td>-0.028848</td>\n      <td>-0.246958</td>\n      <td>0.246958</td>\n    </tr>\n    <tr>\n      <th>525</th>\n      <td>MZGE7AFL</td>\n      <td>MZ201800000618</td>\n      <td>/mnt/datadisk2/preprocessed/all/996x996_c432_f...</td>\n      <td>split 5</td>\n      <td>-1.522599</td>\n      <td>28</td>\n      <td>Mozambique</td>\n      <td>Manica</td>\n      <td>Mossurize</td>\n      <td>-20.141542</td>\n      <td>32.940524</td>\n      <td>2018.0</td>\n      <td>R</td>\n      <td>-1.472167</td>\n      <td>-1.472167</td>\n      <td>-0.508386</td>\n      <td>-1.472167</td>\n      <td>0.963780</td>\n      <td>0.963780</td>\n    </tr>\n    <tr>\n      <th>526</th>\n      <td>MZGE7AFL</td>\n      <td>MZ201800000115</td>\n      <td>/mnt/datadisk2/preprocessed/all/996x996_c432_f...</td>\n      <td>split 5</td>\n      <td>-0.245552</td>\n      <td>28</td>\n      <td>Mozambique</td>\n      <td>Niassa</td>\n      <td>Mavago</td>\n      <td>-12.631818</td>\n      <td>36.077733</td>\n      <td>2018.0</td>\n      <td>R</td>\n      <td>-0.213756</td>\n      <td>-0.213756</td>\n      <td>-0.487332</td>\n      <td>-0.213756</td>\n      <td>-0.273576</td>\n      <td>0.273576</td>\n    </tr>\n  </tbody>\n</table>\n<p>527 rows × 19 columns</p>\n</div>"
     },
     "execution_count": 2,
     "metadata": {},
     "output_type": "execute_result"
    }
   ],
   "source": [
    "moz = pd.read_csv(file)\n",
    "#drop columns\n",
    "# moz = moz.drop(columns=['level_0', 'index', 'households_y'])\n",
    "moz = moz.drop(columns=['index'])\n",
    "moz"
   ],
   "metadata": {
    "collapsed": false,
    "ExecuteTime": {
     "end_time": "2023-05-24T12:36:47.602287155Z",
     "start_time": "2023-05-24T12:36:47.530104528Z"
    }
   }
  },
  {
   "cell_type": "code",
   "execution_count": null,
   "outputs": [
    {
     "data": {
      "text/plain": "         GEID           DHSID  \\\n0    MZGE71FL  MZ201500000141   \n1    MZGE71FL  MZ201500000158   \n2    MZGE71FL  MZ201500000157   \n3    MZGE71FL  MZ201500000078   \n4    MZGE71FL  MZ201500000182   \n..        ...             ...   \n522  MZGE7AFL  MZ201800000914   \n523  MZGE7AFL  MZ201800000403   \n524  MZGE7AFL  MZ201800000106   \n525  MZGE7AFL  MZ201800000618   \n526  MZGE7AFL  MZ201800000115   \n\n                                                  path  \\\n0    /mnt/datadisk2/preprocessed/all/996x996_c432_f...   \n1    /mnt/datadisk2/preprocessed/all/996x996_c432_f...   \n2    /mnt/datadisk2/preprocessed/all/996x996_c432_f...   \n3    /mnt/datadisk2/preprocessed/all/996x996_c432_f...   \n4    /mnt/datadisk2/preprocessed/all/996x996_c432_f...   \n..                                                 ...   \n522  /mnt/datadisk2/preprocessed/all/996x996_c432_f...   \n523  /mnt/datadisk2/preprocessed/all/996x996_c432_f...   \n524  /mnt/datadisk2/preprocessed/all/996x996_c432_f...   \n525  /mnt/datadisk2/preprocessed/all/996x996_c432_f...   \n526  /mnt/datadisk2/preprocessed/all/996x996_c432_f...   \n\n    split: out of country year all excluded drop surveys (ZAuEG) MZ in train  \\\n0                                              split 4                         \n1                                              split 4                         \n2                                              split 4                         \n3                                              split 4                         \n4                                              split 4                         \n..                                                 ...                         \n522                                            split 5                         \n523                                            split 5                         \n524                                            split 5                         \n525                                            split 5                         \n526                                            split 5                         \n\n     PCA w_location_weighting all  households   adm0_name adm1_name  \\\n0                       -0.853098          24  Mozambique    Manica   \n1                        1.123194          24  Mozambique    Maputo   \n2                       -1.369898          24  Mozambique      Gaza   \n3                       -0.443940          23  Mozambique      Gaza   \n4                        1.160413          24  Mozambique      Gaza   \n..                            ...         ...         ...       ...   \n522                     -0.890873          27  Mozambique      Gaza   \n523                     -0.397908          28  Mozambique  Zambezia   \n524                     -0.057906          28  Mozambique    Niassa   \n525                     -1.522599          28  Mozambique    Manica   \n526                     -0.245552          28  Mozambique    Niassa   \n\n        adm2_name     LATNUM    LONGNUM  DHSYEAR URBAN_RURA     label  \\\n0     Sussundenga -19.524505  33.091154   2015.0          R -0.812436   \n1         Manhica -25.389211  32.792003   2015.0          U  1.135016   \n2         Chigubo -22.356678  32.989617   2015.0          R -1.321694   \n3          Bilene -24.944068  33.359425   2015.0          R -0.409249   \n4         Xai-xai -24.857462  33.721327   2015.0          R  1.171692   \n..            ...        ...        ...      ...        ...       ...   \n522         Guija -24.004835  33.249931   2018.0          R -0.849659   \n523  Alto Molocue -15.648249  37.686719   2018.0          U -0.363889   \n524      Mandimba -14.370951  35.655547   2018.0          U -0.028848   \n525     Mossurize -20.141542  32.940524   2018.0          R -1.472167   \n526        Mavago -12.631818  36.077733   2018.0          R -0.213756   \n\n     normalized  Prediction    Actual     Error  Absolute Error  \n0     -0.812436   -0.771947 -0.812436  0.040489        0.040489  \n1      1.135016    0.761403  1.135016 -0.373613        0.373613  \n2     -1.321694   -0.438999 -1.321694  0.882696        0.882696  \n3     -0.409249    0.161739 -0.409249  0.570987        0.570987  \n4      1.171692   -0.109044  1.171692 -1.280736        1.280736  \n..          ...         ...       ...       ...             ...  \n522   -0.849659   -0.699633 -0.849659  0.150027        0.150027  \n523   -0.363889   -0.460451 -0.363889 -0.096562        0.096562  \n524   -0.028848   -0.275806 -0.028848 -0.246958        0.246958  \n525   -1.472167   -0.508386 -1.472167  0.963780        0.963780  \n526   -0.213756   -0.487332 -0.213756 -0.273576        0.273576  \n\n[527 rows x 19 columns]",
      "text/html": "<div>\n<style scoped>\n    .dataframe tbody tr th:only-of-type {\n        vertical-align: middle;\n    }\n\n    .dataframe tbody tr th {\n        vertical-align: top;\n    }\n\n    .dataframe thead th {\n        text-align: right;\n    }\n</style>\n<table border=\"1\" class=\"dataframe\">\n  <thead>\n    <tr style=\"text-align: right;\">\n      <th></th>\n      <th>GEID</th>\n      <th>DHSID</th>\n      <th>path</th>\n      <th>split: out of country year all excluded drop surveys (ZAuEG) MZ in train</th>\n      <th>PCA w_location_weighting all</th>\n      <th>households</th>\n      <th>adm0_name</th>\n      <th>adm1_name</th>\n      <th>adm2_name</th>\n      <th>LATNUM</th>\n      <th>LONGNUM</th>\n      <th>DHSYEAR</th>\n      <th>URBAN_RURA</th>\n      <th>label</th>\n      <th>normalized</th>\n      <th>Prediction</th>\n      <th>Actual</th>\n      <th>Error</th>\n      <th>Absolute Error</th>\n    </tr>\n  </thead>\n  <tbody>\n    <tr>\n      <th>0</th>\n      <td>MZGE71FL</td>\n      <td>MZ201500000141</td>\n      <td>/mnt/datadisk2/preprocessed/all/996x996_c432_f...</td>\n      <td>split 4</td>\n      <td>-0.853098</td>\n      <td>24</td>\n      <td>Mozambique</td>\n      <td>Manica</td>\n      <td>Sussundenga</td>\n      <td>-19.524505</td>\n      <td>33.091154</td>\n      <td>2015.0</td>\n      <td>R</td>\n      <td>-0.812436</td>\n      <td>-0.812436</td>\n      <td>-0.771947</td>\n      <td>-0.812436</td>\n      <td>0.040489</td>\n      <td>0.040489</td>\n    </tr>\n    <tr>\n      <th>1</th>\n      <td>MZGE71FL</td>\n      <td>MZ201500000158</td>\n      <td>/mnt/datadisk2/preprocessed/all/996x996_c432_f...</td>\n      <td>split 4</td>\n      <td>1.123194</td>\n      <td>24</td>\n      <td>Mozambique</td>\n      <td>Maputo</td>\n      <td>Manhica</td>\n      <td>-25.389211</td>\n      <td>32.792003</td>\n      <td>2015.0</td>\n      <td>U</td>\n      <td>1.135016</td>\n      <td>1.135016</td>\n      <td>0.761403</td>\n      <td>1.135016</td>\n      <td>-0.373613</td>\n      <td>0.373613</td>\n    </tr>\n    <tr>\n      <th>2</th>\n      <td>MZGE71FL</td>\n      <td>MZ201500000157</td>\n      <td>/mnt/datadisk2/preprocessed/all/996x996_c432_f...</td>\n      <td>split 4</td>\n      <td>-1.369898</td>\n      <td>24</td>\n      <td>Mozambique</td>\n      <td>Gaza</td>\n      <td>Chigubo</td>\n      <td>-22.356678</td>\n      <td>32.989617</td>\n      <td>2015.0</td>\n      <td>R</td>\n      <td>-1.321694</td>\n      <td>-1.321694</td>\n      <td>-0.438999</td>\n      <td>-1.321694</td>\n      <td>0.882696</td>\n      <td>0.882696</td>\n    </tr>\n    <tr>\n      <th>3</th>\n      <td>MZGE71FL</td>\n      <td>MZ201500000078</td>\n      <td>/mnt/datadisk2/preprocessed/all/996x996_c432_f...</td>\n      <td>split 4</td>\n      <td>-0.443940</td>\n      <td>23</td>\n      <td>Mozambique</td>\n      <td>Gaza</td>\n      <td>Bilene</td>\n      <td>-24.944068</td>\n      <td>33.359425</td>\n      <td>2015.0</td>\n      <td>R</td>\n      <td>-0.409249</td>\n      <td>-0.409249</td>\n      <td>0.161739</td>\n      <td>-0.409249</td>\n      <td>0.570987</td>\n      <td>0.570987</td>\n    </tr>\n    <tr>\n      <th>4</th>\n      <td>MZGE71FL</td>\n      <td>MZ201500000182</td>\n      <td>/mnt/datadisk2/preprocessed/all/996x996_c432_f...</td>\n      <td>split 4</td>\n      <td>1.160413</td>\n      <td>24</td>\n      <td>Mozambique</td>\n      <td>Gaza</td>\n      <td>Xai-xai</td>\n      <td>-24.857462</td>\n      <td>33.721327</td>\n      <td>2015.0</td>\n      <td>R</td>\n      <td>1.171692</td>\n      <td>1.171692</td>\n      <td>-0.109044</td>\n      <td>1.171692</td>\n      <td>-1.280736</td>\n      <td>1.280736</td>\n    </tr>\n    <tr>\n      <th>...</th>\n      <td>...</td>\n      <td>...</td>\n      <td>...</td>\n      <td>...</td>\n      <td>...</td>\n      <td>...</td>\n      <td>...</td>\n      <td>...</td>\n      <td>...</td>\n      <td>...</td>\n      <td>...</td>\n      <td>...</td>\n      <td>...</td>\n      <td>...</td>\n      <td>...</td>\n      <td>...</td>\n      <td>...</td>\n      <td>...</td>\n      <td>...</td>\n    </tr>\n    <tr>\n      <th>522</th>\n      <td>MZGE7AFL</td>\n      <td>MZ201800000914</td>\n      <td>/mnt/datadisk2/preprocessed/all/996x996_c432_f...</td>\n      <td>split 5</td>\n      <td>-0.890873</td>\n      <td>27</td>\n      <td>Mozambique</td>\n      <td>Gaza</td>\n      <td>Guija</td>\n      <td>-24.004835</td>\n      <td>33.249931</td>\n      <td>2018.0</td>\n      <td>R</td>\n      <td>-0.849659</td>\n      <td>-0.849659</td>\n      <td>-0.699633</td>\n      <td>-0.849659</td>\n      <td>0.150027</td>\n      <td>0.150027</td>\n    </tr>\n    <tr>\n      <th>523</th>\n      <td>MZGE7AFL</td>\n      <td>MZ201800000403</td>\n      <td>/mnt/datadisk2/preprocessed/all/996x996_c432_f...</td>\n      <td>split 5</td>\n      <td>-0.397908</td>\n      <td>28</td>\n      <td>Mozambique</td>\n      <td>Zambezia</td>\n      <td>Alto Molocue</td>\n      <td>-15.648249</td>\n      <td>37.686719</td>\n      <td>2018.0</td>\n      <td>U</td>\n      <td>-0.363889</td>\n      <td>-0.363889</td>\n      <td>-0.460451</td>\n      <td>-0.363889</td>\n      <td>-0.096562</td>\n      <td>0.096562</td>\n    </tr>\n    <tr>\n      <th>524</th>\n      <td>MZGE7AFL</td>\n      <td>MZ201800000106</td>\n      <td>/mnt/datadisk2/preprocessed/all/996x996_c432_f...</td>\n      <td>split 5</td>\n      <td>-0.057906</td>\n      <td>28</td>\n      <td>Mozambique</td>\n      <td>Niassa</td>\n      <td>Mandimba</td>\n      <td>-14.370951</td>\n      <td>35.655547</td>\n      <td>2018.0</td>\n      <td>U</td>\n      <td>-0.028848</td>\n      <td>-0.028848</td>\n      <td>-0.275806</td>\n      <td>-0.028848</td>\n      <td>-0.246958</td>\n      <td>0.246958</td>\n    </tr>\n    <tr>\n      <th>525</th>\n      <td>MZGE7AFL</td>\n      <td>MZ201800000618</td>\n      <td>/mnt/datadisk2/preprocessed/all/996x996_c432_f...</td>\n      <td>split 5</td>\n      <td>-1.522599</td>\n      <td>28</td>\n      <td>Mozambique</td>\n      <td>Manica</td>\n      <td>Mossurize</td>\n      <td>-20.141542</td>\n      <td>32.940524</td>\n      <td>2018.0</td>\n      <td>R</td>\n      <td>-1.472167</td>\n      <td>-1.472167</td>\n      <td>-0.508386</td>\n      <td>-1.472167</td>\n      <td>0.963780</td>\n      <td>0.963780</td>\n    </tr>\n    <tr>\n      <th>526</th>\n      <td>MZGE7AFL</td>\n      <td>MZ201800000115</td>\n      <td>/mnt/datadisk2/preprocessed/all/996x996_c432_f...</td>\n      <td>split 5</td>\n      <td>-0.245552</td>\n      <td>28</td>\n      <td>Mozambique</td>\n      <td>Niassa</td>\n      <td>Mavago</td>\n      <td>-12.631818</td>\n      <td>36.077733</td>\n      <td>2018.0</td>\n      <td>R</td>\n      <td>-0.213756</td>\n      <td>-0.213756</td>\n      <td>-0.487332</td>\n      <td>-0.213756</td>\n      <td>-0.273576</td>\n      <td>0.273576</td>\n    </tr>\n  </tbody>\n</table>\n<p>527 rows × 19 columns</p>\n</div>"
     },
     "execution_count": 3,
     "metadata": {},
     "output_type": "execute_result"
    }
   ],
   "source": [
    "moz = moz[(moz['DHSYEAR'] == 2018) | (moz['DHSYEAR'] == 2015)]\n",
    "#group\n",
    "# moz = moz.groupby(['adm2_name', 'DHSYEAR']).mean()\n",
    "# moz = moz.reset_index()\n",
    "# scaler = StandardScaler()\n",
    "# moz['Prediction normalized'] = scaler.fit_transform(np.array(moz['Prediction']).reshape(-1, 1))\n",
    "# scaler = StandardScaler()\n",
    "# moz['Actual normalized'] = scaler.fit_transform(np.array(moz['Actual']).reshape(-1, 1))\n",
    "moz"
   ],
   "metadata": {
    "collapsed": false,
    "ExecuteTime": {
     "end_time": "2023-05-24T12:36:47.706971330Z",
     "start_time": "2023-05-24T12:36:47.567130984Z"
    }
   }
  },
  {
   "cell_type": "code",
   "execution_count": null,
   "outputs": [
    {
     "name": "stdout",
     "output_type": "stream",
     "text": [
      "                                                   path      GEID   cluster\n",
      "0     /mnt/datadisk2/preprocessed/moz/996x996_c432_f...  MZGE71FL  00000220\n",
      "1     /mnt/datadisk2/preprocessed/moz/996x996_c432_f...  MZGE7AFL  00000117\n",
      "2     /mnt/datadisk2/preprocessed/moz/996x996_c432_f...  MZGE61FL  00000035\n",
      "3     /mnt/datadisk2/preprocessed/moz/996x996_c432_f...  MZGE61FL  00000265\n",
      "4     /mnt/datadisk2/preprocessed/moz/996x996_c432_f...  MZGE7AFL  00000706\n",
      "...                                                 ...       ...       ...\n",
      "1130  /mnt/datadisk2/preprocessed/moz/996x996_c432_f...  MZGE7AFL  00000815\n",
      "1131  /mnt/datadisk2/preprocessed/moz/996x996_c432_f...  MZGE61FL  00000494\n",
      "1132  /mnt/datadisk2/preprocessed/moz/996x996_c432_f...  MZGE61FL  00000514\n",
      "1133  /mnt/datadisk2/preprocessed/moz/996x996_c432_f...  MZGE61FL  00000070\n",
      "1134  /mnt/datadisk2/preprocessed/moz/996x996_c432_f...  MZGE7AFL  00000606\n",
      "\n",
      "[1135 rows x 3 columns]\n"
     ]
    },
    {
     "name": "stderr",
     "output_type": "stream",
     "text": [
      "2023-05-24 14:36:47.657434: I tensorflow/stream_executor/cuda/cuda_gpu_executor.cc:936] successful NUMA node read from SysFS had negative value (-1), but there must be at least one NUMA node, so returning NUMA node zero\n",
      "2023-05-24 14:36:47.657816: I tensorflow/stream_executor/cuda/cuda_gpu_executor.cc:936] successful NUMA node read from SysFS had negative value (-1), but there must be at least one NUMA node, so returning NUMA node zero\n",
      "2023-05-24 14:36:47.658021: I tensorflow/stream_executor/cuda/cuda_gpu_executor.cc:936] successful NUMA node read from SysFS had negative value (-1), but there must be at least one NUMA node, so returning NUMA node zero\n",
      "2023-05-24 14:36:47.684947: I tensorflow/stream_executor/cuda/cuda_gpu_executor.cc:936] successful NUMA node read from SysFS had negative value (-1), but there must be at least one NUMA node, so returning NUMA node zero\n",
      "2023-05-24 14:36:47.685148: I tensorflow/stream_executor/cuda/cuda_gpu_executor.cc:936] successful NUMA node read from SysFS had negative value (-1), but there must be at least one NUMA node, so returning NUMA node zero\n",
      "2023-05-24 14:36:47.685330: I tensorflow/stream_executor/cuda/cuda_gpu_executor.cc:936] successful NUMA node read from SysFS had negative value (-1), but there must be at least one NUMA node, so returning NUMA node zero\n",
      "2023-05-24 14:36:47.685504: I tensorflow/stream_executor/cuda/cuda_gpu_executor.cc:936] successful NUMA node read from SysFS had negative value (-1), but there must be at least one NUMA node, so returning NUMA node zero\n",
      "2023-05-24 14:36:47.685681: I tensorflow/stream_executor/cuda/cuda_gpu_executor.cc:936] successful NUMA node read from SysFS had negative value (-1), but there must be at least one NUMA node, so returning NUMA node zero\n",
      "2023-05-24 14:36:47.685852: I tensorflow/stream_executor/cuda/cuda_gpu_executor.cc:936] successful NUMA node read from SysFS had negative value (-1), but there must be at least one NUMA node, so returning NUMA node zero\n",
      "2023-05-24 14:36:47.686790: I tensorflow/core/platform/cpu_feature_guard.cc:151] This TensorFlow binary is optimized with oneAPI Deep Neural Network Library (oneDNN) to use the following CPU instructions in performance-critical operations:  AVX2 FMA\n",
      "To enable them in other operations, rebuild TensorFlow with the appropriate compiler flags.\n",
      "2023-05-24 14:36:47.862522: I tensorflow/stream_executor/cuda/cuda_gpu_executor.cc:936] successful NUMA node read from SysFS had negative value (-1), but there must be at least one NUMA node, so returning NUMA node zero\n",
      "2023-05-24 14:36:47.862714: I tensorflow/stream_executor/cuda/cuda_gpu_executor.cc:936] successful NUMA node read from SysFS had negative value (-1), but there must be at least one NUMA node, so returning NUMA node zero\n",
      "2023-05-24 14:36:47.862885: I tensorflow/stream_executor/cuda/cuda_gpu_executor.cc:936] successful NUMA node read from SysFS had negative value (-1), but there must be at least one NUMA node, so returning NUMA node zero\n",
      "2023-05-24 14:36:47.863040: I tensorflow/stream_executor/cuda/cuda_gpu_executor.cc:936] successful NUMA node read from SysFS had negative value (-1), but there must be at least one NUMA node, so returning NUMA node zero\n",
      "2023-05-24 14:36:47.863181: I tensorflow/stream_executor/cuda/cuda_gpu_executor.cc:936] successful NUMA node read from SysFS had negative value (-1), but there must be at least one NUMA node, so returning NUMA node zero\n",
      "2023-05-24 14:36:47.863327: I tensorflow/stream_executor/cuda/cuda_gpu_executor.cc:936] successful NUMA node read from SysFS had negative value (-1), but there must be at least one NUMA node, so returning NUMA node zero\n",
      "2023-05-24 14:36:47.863466: I tensorflow/stream_executor/cuda/cuda_gpu_executor.cc:936] successful NUMA node read from SysFS had negative value (-1), but there must be at least one NUMA node, so returning NUMA node zero\n",
      "2023-05-24 14:36:47.863605: I tensorflow/stream_executor/cuda/cuda_gpu_executor.cc:936] successful NUMA node read from SysFS had negative value (-1), but there must be at least one NUMA node, so returning NUMA node zero\n",
      "2023-05-24 14:36:47.863747: I tensorflow/stream_executor/cuda/cuda_gpu_executor.cc:936] successful NUMA node read from SysFS had negative value (-1), but there must be at least one NUMA node, so returning NUMA node zero\n",
      "2023-05-24 14:36:48.558012: I tensorflow/stream_executor/cuda/cuda_gpu_executor.cc:936] successful NUMA node read from SysFS had negative value (-1), but there must be at least one NUMA node, so returning NUMA node zero\n",
      "2023-05-24 14:36:48.558345: I tensorflow/stream_executor/cuda/cuda_gpu_executor.cc:936] successful NUMA node read from SysFS had negative value (-1), but there must be at least one NUMA node, so returning NUMA node zero\n",
      "2023-05-24 14:36:48.558523: I tensorflow/stream_executor/cuda/cuda_gpu_executor.cc:936] successful NUMA node read from SysFS had negative value (-1), but there must be at least one NUMA node, so returning NUMA node zero\n",
      "2023-05-24 14:36:48.558684: I tensorflow/stream_executor/cuda/cuda_gpu_executor.cc:936] successful NUMA node read from SysFS had negative value (-1), but there must be at least one NUMA node, so returning NUMA node zero\n",
      "2023-05-24 14:36:48.558849: I tensorflow/stream_executor/cuda/cuda_gpu_executor.cc:936] successful NUMA node read from SysFS had negative value (-1), but there must be at least one NUMA node, so returning NUMA node zero\n",
      "2023-05-24 14:36:48.558998: I tensorflow/stream_executor/cuda/cuda_gpu_executor.cc:936] successful NUMA node read from SysFS had negative value (-1), but there must be at least one NUMA node, so returning NUMA node zero\n",
      "2023-05-24 14:36:48.559153: I tensorflow/stream_executor/cuda/cuda_gpu_executor.cc:936] successful NUMA node read from SysFS had negative value (-1), but there must be at least one NUMA node, so returning NUMA node zero\n",
      "2023-05-24 14:36:48.559303: I tensorflow/core/common_runtime/gpu/gpu_device.cc:1525] Created device /job:localhost/replica:0/task:0/device:GPU:0 with 40554 MB memory:  -> device: 0, name: NVIDIA RTX A6000, pci bus id: 0000:81:00.0, compute capability: 8.6\n",
      "2023-05-24 14:36:48.562193: I tensorflow/stream_executor/cuda/cuda_gpu_executor.cc:936] successful NUMA node read from SysFS had negative value (-1), but there must be at least one NUMA node, so returning NUMA node zero\n",
      "2023-05-24 14:36:48.562333: I tensorflow/core/common_runtime/gpu/gpu_device.cc:1525] Created device /job:localhost/replica:0/task:0/device:GPU:1 with 43567 MB memory:  -> device: 1, name: NVIDIA RTX A6000, pci bus id: 0000:c1:00.0, compute capability: 8.6\n",
      "2023-05-24 14:36:48.562550: I tensorflow/stream_executor/cuda/cuda_gpu_executor.cc:936] successful NUMA node read from SysFS had negative value (-1), but there must be at least one NUMA node, so returning NUMA node zero\n",
      "2023-05-24 14:36:48.562681: I tensorflow/core/common_runtime/gpu/gpu_device.cc:1525] Created device /job:localhost/replica:0/task:0/device:GPU:2 with 43638 MB memory:  -> device: 2, name: NVIDIA RTX A6000, pci bus id: 0000:c2:00.0, compute capability: 8.6\n"
     ]
    },
    {
     "name": "stdout",
     "output_type": "stream",
     "text": [
      "<PrefetchDataset element_spec=TensorSpec(shape=<unknown>, dtype=tf.float32, name=None)> 71\n",
      "1136\n",
      "Model: \"model\"\n",
      "_________________________________________________________________\n",
      " Layer (type)                Output Shape              Param #   \n",
      "=================================================================\n",
      " input_1 (InputLayer)        [(None, 3, 996, 996)]     0         \n",
      "                                                                 \n",
      " block1_conv1 (Conv2D)       (None, 64, 996, 996)      1792      \n",
      "                                                                 \n",
      " block1_conv2 (Conv2D)       (None, 64, 996, 996)      36928     \n",
      "                                                                 \n",
      " block1_pool (MaxPooling2D)  (None, 64, 498, 498)      0         \n",
      "                                                                 \n",
      " block2_conv1 (Conv2D)       (None, 128, 498, 498)     73856     \n",
      "                                                                 \n",
      " block2_conv2 (Conv2D)       (None, 128, 498, 498)     147584    \n",
      "                                                                 \n",
      " block2_pool (MaxPooling2D)  (None, 128, 249, 249)     0         \n",
      "                                                                 \n",
      " block3_conv1 (Conv2D)       (None, 256, 249, 249)     295168    \n",
      "                                                                 \n",
      " block3_conv2 (Conv2D)       (None, 256, 249, 249)     590080    \n",
      "                                                                 \n",
      " block3_conv3 (Conv2D)       (None, 256, 249, 249)     590080    \n",
      "                                                                 \n",
      " block3_conv4 (Conv2D)       (None, 256, 249, 249)     590080    \n",
      "                                                                 \n",
      " block3_pool (MaxPooling2D)  (None, 256, 124, 124)     0         \n",
      "                                                                 \n",
      " block4_conv1 (Conv2D)       (None, 512, 124, 124)     1180160   \n",
      "                                                                 \n",
      " block4_conv2 (Conv2D)       (None, 512, 124, 124)     2359808   \n",
      "                                                                 \n",
      " block4_conv3 (Conv2D)       (None, 512, 124, 124)     2359808   \n",
      "                                                                 \n",
      " block4_conv4 (Conv2D)       (None, 512, 124, 124)     2359808   \n",
      "                                                                 \n",
      " block4_pool (MaxPooling2D)  (None, 512, 62, 62)       0         \n",
      "                                                                 \n",
      " block5_conv1 (Conv2D)       (None, 512, 62, 62)       2359808   \n",
      "                                                                 \n",
      " block5_conv2 (Conv2D)       (None, 512, 62, 62)       2359808   \n",
      "                                                                 \n",
      " block5_conv3 (Conv2D)       (None, 512, 62, 62)       2359808   \n",
      "                                                                 \n",
      " block5_conv4 (Conv2D)       (None, 512, 62, 62)       2359808   \n",
      "                                                                 \n",
      " block5_pool (MaxPooling2D)  (None, 512, 31, 31)       0         \n",
      "                                                                 \n",
      " global_average_pooling2d (G  (None, 512)              0         \n",
      " lobalAveragePooling2D)                                          \n",
      "                                                                 \n",
      " dense (Dense)               (None, 1024)              525312    \n",
      "                                                                 \n",
      " dense_1 (Dense)             (None, 512)               524800    \n",
      "                                                                 \n",
      " dense_2 (Dense)             (None, 1)                 513       \n",
      "                                                                 \n",
      "=================================================================\n",
      "Total params: 21,075,009\n",
      "Trainable params: 21,075,009\n",
      "Non-trainable params: 0\n",
      "_________________________________________________________________\n"
     ]
    },
    {
     "name": "stderr",
     "output_type": "stream",
     "text": [
      "2023-05-24 14:36:58.786966: I tensorflow/stream_executor/cuda/cuda_dnn.cc:368] Loaded cuDNN version 8700\n",
      "2023-05-24 14:36:59.351985: W tensorflow/stream_executor/gpu/asm_compiler.cc:111] *** WARNING *** You are using ptxas 10.1.243, which is older than 11.1. ptxas before 11.1 is known to miscompile XLA code, leading to incorrect results or invalid-address errors.\n",
      "\n",
      "You may not need to update to CUDA 11.1; cherry-picking the ptxas binary is often sufficient.\n",
      "2023-05-24 14:36:59.353957: W tensorflow/stream_executor/gpu/asm_compiler.cc:230] Falling back to the CUDA driver for PTX compilation; ptxas does not support CC 8.6\n",
      "2023-05-24 14:36:59.353992: W tensorflow/stream_executor/gpu/asm_compiler.cc:233] Used ptxas at ptxas\n",
      "2023-05-24 14:36:59.354138: W tensorflow/stream_executor/gpu/redzone_allocator.cc:314] UNIMPLEMENTED: ptxas ptxas too old. Falling back to the driver to compile.\n",
      "Relying on driver to perform ptx compilation. \n",
      "Modify $PATH to customize ptxas location.\n",
      "This message will be only logged once.\n",
      "2023-05-24 14:37:02.862149: I tensorflow/stream_executor/cuda/cuda_blas.cc:1786] TensorFloat-32 will be used for the matrix multiplication. This will only be logged once.\n"
     ]
    },
    {
     "name": "stdout",
     "output_type": "stream",
     "text": [
      "Model: \"model_1\"\n",
      "_________________________________________________________________\n",
      " Layer (type)                Output Shape              Param #   \n",
      "=================================================================\n",
      " input_2 (InputLayer)        [(None, 3, 996, 996)]     0         \n",
      "                                                                 \n",
      " block1_conv1 (Conv2D)       (None, 64, 996, 996)      1792      \n",
      "                                                                 \n",
      " block1_conv2 (Conv2D)       (None, 64, 996, 996)      36928     \n",
      "                                                                 \n",
      " block1_pool (MaxPooling2D)  (None, 64, 498, 498)      0         \n",
      "                                                                 \n",
      " block2_conv1 (Conv2D)       (None, 128, 498, 498)     73856     \n",
      "                                                                 \n",
      " block2_conv2 (Conv2D)       (None, 128, 498, 498)     147584    \n",
      "                                                                 \n",
      " block2_pool (MaxPooling2D)  (None, 128, 249, 249)     0         \n",
      "                                                                 \n",
      " block3_conv1 (Conv2D)       (None, 256, 249, 249)     295168    \n",
      "                                                                 \n",
      " block3_conv2 (Conv2D)       (None, 256, 249, 249)     590080    \n",
      "                                                                 \n",
      " block3_conv3 (Conv2D)       (None, 256, 249, 249)     590080    \n",
      "                                                                 \n",
      " block3_conv4 (Conv2D)       (None, 256, 249, 249)     590080    \n",
      "                                                                 \n",
      " block3_pool (MaxPooling2D)  (None, 256, 124, 124)     0         \n",
      "                                                                 \n",
      " block4_conv1 (Conv2D)       (None, 512, 124, 124)     1180160   \n",
      "                                                                 \n",
      " block4_conv2 (Conv2D)       (None, 512, 124, 124)     2359808   \n",
      "                                                                 \n",
      " block4_conv3 (Conv2D)       (None, 512, 124, 124)     2359808   \n",
      "                                                                 \n",
      " block4_conv4 (Conv2D)       (None, 512, 124, 124)     2359808   \n",
      "                                                                 \n",
      " block4_pool (MaxPooling2D)  (None, 512, 62, 62)       0         \n",
      "                                                                 \n",
      " block5_conv1 (Conv2D)       (None, 512, 62, 62)       2359808   \n",
      "                                                                 \n",
      " block5_conv2 (Conv2D)       (None, 512, 62, 62)       2359808   \n",
      "                                                                 \n",
      " block5_conv3 (Conv2D)       (None, 512, 62, 62)       2359808   \n",
      "                                                                 \n",
      " block5_conv4 (Conv2D)       (None, 512, 62, 62)       2359808   \n",
      "                                                                 \n",
      " block5_pool (MaxPooling2D)  (None, 512, 31, 31)       0         \n",
      "                                                                 \n",
      " global_average_pooling2d_1   (None, 512)              0         \n",
      " (GlobalAveragePooling2D)                                        \n",
      "                                                                 \n",
      " dense_3 (Dense)             (None, 1024)              525312    \n",
      "                                                                 \n",
      " dense_4 (Dense)             (None, 512)               524800    \n",
      "                                                                 \n",
      " dense_5 (Dense)             (None, 1)                 513       \n",
      "                                                                 \n",
      "=================================================================\n",
      "Total params: 21,075,009\n",
      "Trainable params: 21,075,009\n",
      "Non-trainable params: 0\n",
      "_________________________________________________________________\n",
      "Model: \"model_2\"\n",
      "_________________________________________________________________\n",
      " Layer (type)                Output Shape              Param #   \n",
      "=================================================================\n",
      " input_3 (InputLayer)        [(None, 3, 996, 996)]     0         \n",
      "                                                                 \n",
      " block1_conv1 (Conv2D)       (None, 64, 996, 996)      1792      \n",
      "                                                                 \n",
      " block1_conv2 (Conv2D)       (None, 64, 996, 996)      36928     \n",
      "                                                                 \n",
      " block1_pool (MaxPooling2D)  (None, 64, 498, 498)      0         \n",
      "                                                                 \n",
      " block2_conv1 (Conv2D)       (None, 128, 498, 498)     73856     \n",
      "                                                                 \n",
      " block2_conv2 (Conv2D)       (None, 128, 498, 498)     147584    \n",
      "                                                                 \n",
      " block2_pool (MaxPooling2D)  (None, 128, 249, 249)     0         \n",
      "                                                                 \n",
      " block3_conv1 (Conv2D)       (None, 256, 249, 249)     295168    \n",
      "                                                                 \n",
      " block3_conv2 (Conv2D)       (None, 256, 249, 249)     590080    \n",
      "                                                                 \n",
      " block3_conv3 (Conv2D)       (None, 256, 249, 249)     590080    \n",
      "                                                                 \n",
      " block3_conv4 (Conv2D)       (None, 256, 249, 249)     590080    \n",
      "                                                                 \n",
      " block3_pool (MaxPooling2D)  (None, 256, 124, 124)     0         \n",
      "                                                                 \n",
      " block4_conv1 (Conv2D)       (None, 512, 124, 124)     1180160   \n",
      "                                                                 \n",
      " block4_conv2 (Conv2D)       (None, 512, 124, 124)     2359808   \n",
      "                                                                 \n",
      " block4_conv3 (Conv2D)       (None, 512, 124, 124)     2359808   \n",
      "                                                                 \n",
      " block4_conv4 (Conv2D)       (None, 512, 124, 124)     2359808   \n",
      "                                                                 \n",
      " block4_pool (MaxPooling2D)  (None, 512, 62, 62)       0         \n",
      "                                                                 \n",
      " block5_conv1 (Conv2D)       (None, 512, 62, 62)       2359808   \n",
      "                                                                 \n",
      " block5_conv2 (Conv2D)       (None, 512, 62, 62)       2359808   \n",
      "                                                                 \n",
      " block5_conv3 (Conv2D)       (None, 512, 62, 62)       2359808   \n",
      "                                                                 \n",
      " block5_conv4 (Conv2D)       (None, 512, 62, 62)       2359808   \n",
      "                                                                 \n",
      " block5_pool (MaxPooling2D)  (None, 512, 31, 31)       0         \n",
      "                                                                 \n",
      " global_average_pooling2d_2   (None, 512)              0         \n",
      " (GlobalAveragePooling2D)                                        \n",
      "                                                                 \n",
      " dense_6 (Dense)             (None, 1024)              525312    \n",
      "                                                                 \n",
      " dense_7 (Dense)             (None, 512)               524800    \n",
      "                                                                 \n",
      " dense_8 (Dense)             (None, 1)                 513       \n",
      "                                                                 \n",
      "=================================================================\n",
      "Total params: 21,075,009\n",
      "Trainable params: 21,075,009\n",
      "Non-trainable params: 0\n",
      "_________________________________________________________________\n",
      "Model: \"model_3\"\n",
      "_________________________________________________________________\n",
      " Layer (type)                Output Shape              Param #   \n",
      "=================================================================\n",
      " input_4 (InputLayer)        [(None, 3, 996, 996)]     0         \n",
      "                                                                 \n",
      " block1_conv1 (Conv2D)       (None, 64, 996, 996)      1792      \n",
      "                                                                 \n",
      " block1_conv2 (Conv2D)       (None, 64, 996, 996)      36928     \n",
      "                                                                 \n",
      " block1_pool (MaxPooling2D)  (None, 64, 498, 498)      0         \n",
      "                                                                 \n",
      " block2_conv1 (Conv2D)       (None, 128, 498, 498)     73856     \n",
      "                                                                 \n",
      " block2_conv2 (Conv2D)       (None, 128, 498, 498)     147584    \n",
      "                                                                 \n",
      " block2_pool (MaxPooling2D)  (None, 128, 249, 249)     0         \n",
      "                                                                 \n",
      " block3_conv1 (Conv2D)       (None, 256, 249, 249)     295168    \n",
      "                                                                 \n",
      " block3_conv2 (Conv2D)       (None, 256, 249, 249)     590080    \n",
      "                                                                 \n",
      " block3_conv3 (Conv2D)       (None, 256, 249, 249)     590080    \n",
      "                                                                 \n",
      " block3_conv4 (Conv2D)       (None, 256, 249, 249)     590080    \n",
      "                                                                 \n",
      " block3_pool (MaxPooling2D)  (None, 256, 124, 124)     0         \n",
      "                                                                 \n",
      " block4_conv1 (Conv2D)       (None, 512, 124, 124)     1180160   \n",
      "                                                                 \n",
      " block4_conv2 (Conv2D)       (None, 512, 124, 124)     2359808   \n",
      "                                                                 \n",
      " block4_conv3 (Conv2D)       (None, 512, 124, 124)     2359808   \n",
      "                                                                 \n",
      " block4_conv4 (Conv2D)       (None, 512, 124, 124)     2359808   \n",
      "                                                                 \n",
      " block4_pool (MaxPooling2D)  (None, 512, 62, 62)       0         \n",
      "                                                                 \n",
      " block5_conv1 (Conv2D)       (None, 512, 62, 62)       2359808   \n",
      "                                                                 \n",
      " block5_conv2 (Conv2D)       (None, 512, 62, 62)       2359808   \n",
      "                                                                 \n",
      " block5_conv3 (Conv2D)       (None, 512, 62, 62)       2359808   \n",
      "                                                                 \n",
      " block5_conv4 (Conv2D)       (None, 512, 62, 62)       2359808   \n",
      "                                                                 \n",
      " block5_pool (MaxPooling2D)  (None, 512, 31, 31)       0         \n",
      "                                                                 \n",
      " global_average_pooling2d_3   (None, 512)              0         \n",
      " (GlobalAveragePooling2D)                                        \n",
      "                                                                 \n",
      " dense_9 (Dense)             (None, 1024)              525312    \n",
      "                                                                 \n",
      " dense_10 (Dense)            (None, 512)               524800    \n",
      "                                                                 \n",
      " dense_11 (Dense)            (None, 1)                 513       \n",
      "                                                                 \n",
      "=================================================================\n",
      "Total params: 21,075,009\n",
      "Trainable params: 21,075,009\n",
      "Non-trainable params: 0\n",
      "_________________________________________________________________\n",
      "Model: \"model_4\"\n",
      "_________________________________________________________________\n",
      " Layer (type)                Output Shape              Param #   \n",
      "=================================================================\n",
      " input_5 (InputLayer)        [(None, 3, 996, 996)]     0         \n",
      "                                                                 \n",
      " block1_conv1 (Conv2D)       (None, 64, 996, 996)      1792      \n",
      "                                                                 \n",
      " block1_conv2 (Conv2D)       (None, 64, 996, 996)      36928     \n",
      "                                                                 \n",
      " block1_pool (MaxPooling2D)  (None, 64, 498, 498)      0         \n",
      "                                                                 \n",
      " block2_conv1 (Conv2D)       (None, 128, 498, 498)     73856     \n",
      "                                                                 \n",
      " block2_conv2 (Conv2D)       (None, 128, 498, 498)     147584    \n",
      "                                                                 \n",
      " block2_pool (MaxPooling2D)  (None, 128, 249, 249)     0         \n",
      "                                                                 \n",
      " block3_conv1 (Conv2D)       (None, 256, 249, 249)     295168    \n",
      "                                                                 \n",
      " block3_conv2 (Conv2D)       (None, 256, 249, 249)     590080    \n",
      "                                                                 \n",
      " block3_conv3 (Conv2D)       (None, 256, 249, 249)     590080    \n",
      "                                                                 \n",
      " block3_conv4 (Conv2D)       (None, 256, 249, 249)     590080    \n",
      "                                                                 \n",
      " block3_pool (MaxPooling2D)  (None, 256, 124, 124)     0         \n",
      "                                                                 \n",
      " block4_conv1 (Conv2D)       (None, 512, 124, 124)     1180160   \n",
      "                                                                 \n",
      " block4_conv2 (Conv2D)       (None, 512, 124, 124)     2359808   \n",
      "                                                                 \n",
      " block4_conv3 (Conv2D)       (None, 512, 124, 124)     2359808   \n",
      "                                                                 \n",
      " block4_conv4 (Conv2D)       (None, 512, 124, 124)     2359808   \n",
      "                                                                 \n",
      " block4_pool (MaxPooling2D)  (None, 512, 62, 62)       0         \n",
      "                                                                 \n",
      " block5_conv1 (Conv2D)       (None, 512, 62, 62)       2359808   \n",
      "                                                                 \n",
      " block5_conv2 (Conv2D)       (None, 512, 62, 62)       2359808   \n",
      "                                                                 \n",
      " block5_conv3 (Conv2D)       (None, 512, 62, 62)       2359808   \n",
      "                                                                 \n",
      " block5_conv4 (Conv2D)       (None, 512, 62, 62)       2359808   \n",
      "                                                                 \n",
      " block5_pool (MaxPooling2D)  (None, 512, 31, 31)       0         \n",
      "                                                                 \n",
      " global_average_pooling2d_4   (None, 512)              0         \n",
      " (GlobalAveragePooling2D)                                        \n",
      "                                                                 \n",
      " dense_12 (Dense)            (None, 1024)              525312    \n",
      "                                                                 \n",
      " dense_13 (Dense)            (None, 512)               524800    \n",
      "                                                                 \n",
      " dense_14 (Dense)            (None, 1)                 513       \n",
      "                                                                 \n",
      "=================================================================\n",
      "Total params: 21,075,009\n",
      "Trainable params: 21,075,009\n",
      "Non-trainable params: 0\n",
      "_________________________________________________________________\n",
      "                 Model_split 0  Model_split 2  Model_split 3  Model_split 4  \\\n",
      "Model_split 0         1.000000       0.667595       0.538863       0.604725   \n",
      "Model_split 2         0.667595       1.000000       0.750904       0.639341   \n",
      "Model_split 3         0.538863       0.750904       1.000000       0.606612   \n",
      "Model_split 4         0.604725       0.639341       0.606612       1.000000   \n",
      "Model_split 5         0.317679       0.606847       0.620684       0.732679   \n",
      "Mean Prediction       0.673794       0.854269       0.869069       0.871311   \n",
      "\n",
      "                 Model_split 5  Mean Prediction  \n",
      "Model_split 0         0.317679         0.673794  \n",
      "Model_split 2         0.606847         0.854269  \n",
      "Model_split 3         0.620684         0.869069  \n",
      "Model_split 4         0.732679         0.871311  \n",
      "Model_split 5         1.000000         0.842134  \n",
      "Mean Prediction       0.842134         1.000000  \n"
     ]
    },
    {
     "data": {
      "text/plain": "                                                   path      GEID   cluster  \\\n0     /mnt/datadisk2/preprocessed/moz/996x996_c432_f...  MZGE71FL  00000220   \n1     /mnt/datadisk2/preprocessed/moz/996x996_c432_f...  MZGE7AFL  00000117   \n2     /mnt/datadisk2/preprocessed/moz/996x996_c432_f...  MZGE61FL  00000035   \n3     /mnt/datadisk2/preprocessed/moz/996x996_c432_f...  MZGE61FL  00000265   \n4     /mnt/datadisk2/preprocessed/moz/996x996_c432_f...  MZGE7AFL  00000706   \n...                                                 ...       ...       ...   \n1130  /mnt/datadisk2/preprocessed/moz/996x996_c432_f...  MZGE7AFL  00000815   \n1131  /mnt/datadisk2/preprocessed/moz/996x996_c432_f...  MZGE61FL  00000494   \n1132  /mnt/datadisk2/preprocessed/moz/996x996_c432_f...  MZGE61FL  00000514   \n1133  /mnt/datadisk2/preprocessed/moz/996x996_c432_f...  MZGE61FL  00000070   \n1134  /mnt/datadisk2/preprocessed/moz/996x996_c432_f...  MZGE7AFL  00000606   \n\n      Model_split 0  Model_split 2  Model_split 3  Model_split 4  \\\n0          0.849035       0.959860       1.417553      -0.110858   \n1          0.726881       0.703625       0.329767      -0.133058   \n2          1.149988       0.577746      -0.070396       0.450509   \n3          1.505958       1.307916       0.978158       0.762479   \n4          0.711692       0.624403       1.090743       1.233043   \n...             ...            ...            ...            ...   \n1130       0.677243       0.359290       0.251751       1.089049   \n1131       0.735824       0.936158       1.302111       1.438864   \n1132       0.796547       0.736767       1.267061       0.968293   \n1133       0.725215       0.931227       1.574553       0.475539   \n1134       1.694240       1.643494       2.901740       1.617561   \n\n      Model_split 5  Mean Prediction  \n0         -0.862770         0.450564  \n1         -0.658869         0.193669  \n2         -0.847443         0.252081  \n3         -0.768435         0.757215  \n4          0.434335         0.818843  \n...             ...              ...  \n1130      -0.762857         0.322895  \n1131       1.172320         1.117056  \n1132       1.474984         1.048730  \n1133      -0.908166         0.559674  \n1134      -0.144127         1.542582  \n\n[1135 rows x 9 columns]",
      "text/html": "<div>\n<style scoped>\n    .dataframe tbody tr th:only-of-type {\n        vertical-align: middle;\n    }\n\n    .dataframe tbody tr th {\n        vertical-align: top;\n    }\n\n    .dataframe thead th {\n        text-align: right;\n    }\n</style>\n<table border=\"1\" class=\"dataframe\">\n  <thead>\n    <tr style=\"text-align: right;\">\n      <th></th>\n      <th>path</th>\n      <th>GEID</th>\n      <th>cluster</th>\n      <th>Model_split 0</th>\n      <th>Model_split 2</th>\n      <th>Model_split 3</th>\n      <th>Model_split 4</th>\n      <th>Model_split 5</th>\n      <th>Mean Prediction</th>\n    </tr>\n  </thead>\n  <tbody>\n    <tr>\n      <th>0</th>\n      <td>/mnt/datadisk2/preprocessed/moz/996x996_c432_f...</td>\n      <td>MZGE71FL</td>\n      <td>00000220</td>\n      <td>0.849035</td>\n      <td>0.959860</td>\n      <td>1.417553</td>\n      <td>-0.110858</td>\n      <td>-0.862770</td>\n      <td>0.450564</td>\n    </tr>\n    <tr>\n      <th>1</th>\n      <td>/mnt/datadisk2/preprocessed/moz/996x996_c432_f...</td>\n      <td>MZGE7AFL</td>\n      <td>00000117</td>\n      <td>0.726881</td>\n      <td>0.703625</td>\n      <td>0.329767</td>\n      <td>-0.133058</td>\n      <td>-0.658869</td>\n      <td>0.193669</td>\n    </tr>\n    <tr>\n      <th>2</th>\n      <td>/mnt/datadisk2/preprocessed/moz/996x996_c432_f...</td>\n      <td>MZGE61FL</td>\n      <td>00000035</td>\n      <td>1.149988</td>\n      <td>0.577746</td>\n      <td>-0.070396</td>\n      <td>0.450509</td>\n      <td>-0.847443</td>\n      <td>0.252081</td>\n    </tr>\n    <tr>\n      <th>3</th>\n      <td>/mnt/datadisk2/preprocessed/moz/996x996_c432_f...</td>\n      <td>MZGE61FL</td>\n      <td>00000265</td>\n      <td>1.505958</td>\n      <td>1.307916</td>\n      <td>0.978158</td>\n      <td>0.762479</td>\n      <td>-0.768435</td>\n      <td>0.757215</td>\n    </tr>\n    <tr>\n      <th>4</th>\n      <td>/mnt/datadisk2/preprocessed/moz/996x996_c432_f...</td>\n      <td>MZGE7AFL</td>\n      <td>00000706</td>\n      <td>0.711692</td>\n      <td>0.624403</td>\n      <td>1.090743</td>\n      <td>1.233043</td>\n      <td>0.434335</td>\n      <td>0.818843</td>\n    </tr>\n    <tr>\n      <th>...</th>\n      <td>...</td>\n      <td>...</td>\n      <td>...</td>\n      <td>...</td>\n      <td>...</td>\n      <td>...</td>\n      <td>...</td>\n      <td>...</td>\n      <td>...</td>\n    </tr>\n    <tr>\n      <th>1130</th>\n      <td>/mnt/datadisk2/preprocessed/moz/996x996_c432_f...</td>\n      <td>MZGE7AFL</td>\n      <td>00000815</td>\n      <td>0.677243</td>\n      <td>0.359290</td>\n      <td>0.251751</td>\n      <td>1.089049</td>\n      <td>-0.762857</td>\n      <td>0.322895</td>\n    </tr>\n    <tr>\n      <th>1131</th>\n      <td>/mnt/datadisk2/preprocessed/moz/996x996_c432_f...</td>\n      <td>MZGE61FL</td>\n      <td>00000494</td>\n      <td>0.735824</td>\n      <td>0.936158</td>\n      <td>1.302111</td>\n      <td>1.438864</td>\n      <td>1.172320</td>\n      <td>1.117056</td>\n    </tr>\n    <tr>\n      <th>1132</th>\n      <td>/mnt/datadisk2/preprocessed/moz/996x996_c432_f...</td>\n      <td>MZGE61FL</td>\n      <td>00000514</td>\n      <td>0.796547</td>\n      <td>0.736767</td>\n      <td>1.267061</td>\n      <td>0.968293</td>\n      <td>1.474984</td>\n      <td>1.048730</td>\n    </tr>\n    <tr>\n      <th>1133</th>\n      <td>/mnt/datadisk2/preprocessed/moz/996x996_c432_f...</td>\n      <td>MZGE61FL</td>\n      <td>00000070</td>\n      <td>0.725215</td>\n      <td>0.931227</td>\n      <td>1.574553</td>\n      <td>0.475539</td>\n      <td>-0.908166</td>\n      <td>0.559674</td>\n    </tr>\n    <tr>\n      <th>1134</th>\n      <td>/mnt/datadisk2/preprocessed/moz/996x996_c432_f...</td>\n      <td>MZGE7AFL</td>\n      <td>00000606</td>\n      <td>1.694240</td>\n      <td>1.643494</td>\n      <td>2.901740</td>\n      <td>1.617561</td>\n      <td>-0.144127</td>\n      <td>1.542582</td>\n    </tr>\n  </tbody>\n</table>\n<p>1135 rows × 9 columns</p>\n</div>"
     },
     "execution_count": 4,
     "metadata": {},
     "output_type": "execute_result"
    }
   ],
   "source": [
    "###Predict 2022\n",
    "available_files = hu.files_in_folder(img_path)\n",
    "files = [f for f in available_files if 'MZGE' in f and '2022' in f]\n",
    "moz_2022 = pd.DataFrame(files, columns=['path'])\n",
    "moz_2022['GEID'] = moz_2022['path'].apply(lambda x: x.split('/')[-1].split('_')[0])\n",
    "moz_2022['cluster'] = moz_2022['GEID'].str[8:]\n",
    "moz_2022['GEID'] = moz_2022['GEID'].str[:8]\n",
    "print(moz_2022)\n",
    "ds, steps_per_epoch = nnu.dataset_creator_production(moz_2022, 996, 996, False)\n",
    "print(ds, steps_per_epoch)\n",
    "print(steps_per_epoch * 16)\n",
    "for i in range(7):\n",
    "    model_n = f'Model_split {i}'\n",
    "    #load model\n",
    "    model_p = run_path + model_n\n",
    "    if not os.path.exists(model_p):\n",
    "        continue\n",
    "    # Load the model\n",
    "    model = load_model(model_p)\n",
    "    # Verify that model has been loaded correctly\n",
    "    model.summary()\n",
    "    evaluate_pred = model.predict(ds, steps=steps_per_epoch)\n",
    "    moz_2022[model_n] = evaluate_pred\n",
    "moz_2022['Mean Prediction'] = moz_2022[[c for c in moz_2022.columns if 'Model_split' in c]].mean(axis=1)\n",
    "print(moz_2022.corr())\n",
    "moz_2022"
   ],
   "metadata": {
    "collapsed": false,
    "ExecuteTime": {
     "end_time": "2023-05-24T12:40:28.235737693Z",
     "start_time": "2023-05-24T12:36:47.600981734Z"
    }
   }
  },
  {
   "cell_type": "code",
   "execution_count": null,
   "outputs": [
    {
     "name": "stdout",
     "output_type": "stream",
     "text": [
      "1135\n",
      "38154\n",
      "1135\n",
      "1135\n"
     ]
    },
    {
     "data": {
      "text/plain": "                                                   path      GEID   cluster  \\\n0     /mnt/datadisk2/preprocessed/moz/996x996_c432_f...  MZGE71FL  00000220   \n1     /mnt/datadisk2/preprocessed/moz/996x996_c432_f...  MZGE7AFL  00000117   \n2     /mnt/datadisk2/preprocessed/moz/996x996_c432_f...  MZGE61FL  00000035   \n3     /mnt/datadisk2/preprocessed/moz/996x996_c432_f...  MZGE61FL  00000265   \n4     /mnt/datadisk2/preprocessed/moz/996x996_c432_f...  MZGE7AFL  00000706   \n...                                                 ...       ...       ...   \n1130  /mnt/datadisk2/preprocessed/moz/996x996_c432_f...  MZGE7AFL  00000815   \n1131  /mnt/datadisk2/preprocessed/moz/996x996_c432_f...  MZGE61FL  00000494   \n1132  /mnt/datadisk2/preprocessed/moz/996x996_c432_f...  MZGE61FL  00000514   \n1133  /mnt/datadisk2/preprocessed/moz/996x996_c432_f...  MZGE61FL  00000070   \n1134  /mnt/datadisk2/preprocessed/moz/996x996_c432_f...  MZGE7AFL  00000606   \n\n      Model_split 0  Model_split 2  Model_split 3  Model_split 4  \\\n0          0.849035       0.959860       1.417553      -0.110858   \n1          0.726881       0.703625       0.329767      -0.133058   \n2          1.149988       0.577746      -0.070396       0.450509   \n3          1.505958       1.307916       0.978158       0.762479   \n4          0.711692       0.624403       1.090743       1.233043   \n...             ...            ...            ...            ...   \n1130       0.677243       0.359290       0.251751       1.089049   \n1131       0.735824       0.936158       1.302111       1.438864   \n1132       0.796547       0.736767       1.267061       0.968293   \n1133       0.725215       0.931227       1.574553       0.475539   \n1134       1.694240       1.643494       2.901740       1.617561   \n\n      Model_split 5  Mean Prediction  DHSYEAR           DHSID  \\\n0         -0.862770         0.450564     2015  MZ201500000220   \n1         -0.658869         0.193669     2018  MZ201800000117   \n2         -0.847443         0.252081     2011  MZ201100000035   \n3         -0.768435         0.757215     2011  MZ201100000265   \n4          0.434335         0.818843     2018  MZ201800000706   \n...             ...              ...      ...             ...   \n1130      -0.762857         0.322895     2018  MZ201800000815   \n1131       1.172320         1.117056     2011  MZ201100000494   \n1132       1.474984         1.048730     2011  MZ201100000514   \n1133      -0.908166         0.559674     2011  MZ201100000070   \n1134      -0.144127         1.542582     2018  MZ201800000606   \n\n             adm2_name  PCA w_location_weighting all  \n0               Chiure                     -0.916493  \n1           Mecanhelas                     -0.369331  \n2                 Maua                     -1.180802  \n3             Mutarara                     -1.049135  \n4      Cidade da Beira                      0.797107  \n...                ...                           ...  \n1130          Massinga                     -0.613603  \n1131  Cidade da Matola                      0.694203  \n1132  Cidade da Matola                      1.193693  \n1133            Chiure                     -0.369461  \n1134           Gondola                      1.405729  \n\n[1135 rows x 13 columns]",
      "text/html": "<div>\n<style scoped>\n    .dataframe tbody tr th:only-of-type {\n        vertical-align: middle;\n    }\n\n    .dataframe tbody tr th {\n        vertical-align: top;\n    }\n\n    .dataframe thead th {\n        text-align: right;\n    }\n</style>\n<table border=\"1\" class=\"dataframe\">\n  <thead>\n    <tr style=\"text-align: right;\">\n      <th></th>\n      <th>path</th>\n      <th>GEID</th>\n      <th>cluster</th>\n      <th>Model_split 0</th>\n      <th>Model_split 2</th>\n      <th>Model_split 3</th>\n      <th>Model_split 4</th>\n      <th>Model_split 5</th>\n      <th>Mean Prediction</th>\n      <th>DHSYEAR</th>\n      <th>DHSID</th>\n      <th>adm2_name</th>\n      <th>PCA w_location_weighting all</th>\n    </tr>\n  </thead>\n  <tbody>\n    <tr>\n      <th>0</th>\n      <td>/mnt/datadisk2/preprocessed/moz/996x996_c432_f...</td>\n      <td>MZGE71FL</td>\n      <td>00000220</td>\n      <td>0.849035</td>\n      <td>0.959860</td>\n      <td>1.417553</td>\n      <td>-0.110858</td>\n      <td>-0.862770</td>\n      <td>0.450564</td>\n      <td>2015</td>\n      <td>MZ201500000220</td>\n      <td>Chiure</td>\n      <td>-0.916493</td>\n    </tr>\n    <tr>\n      <th>1</th>\n      <td>/mnt/datadisk2/preprocessed/moz/996x996_c432_f...</td>\n      <td>MZGE7AFL</td>\n      <td>00000117</td>\n      <td>0.726881</td>\n      <td>0.703625</td>\n      <td>0.329767</td>\n      <td>-0.133058</td>\n      <td>-0.658869</td>\n      <td>0.193669</td>\n      <td>2018</td>\n      <td>MZ201800000117</td>\n      <td>Mecanhelas</td>\n      <td>-0.369331</td>\n    </tr>\n    <tr>\n      <th>2</th>\n      <td>/mnt/datadisk2/preprocessed/moz/996x996_c432_f...</td>\n      <td>MZGE61FL</td>\n      <td>00000035</td>\n      <td>1.149988</td>\n      <td>0.577746</td>\n      <td>-0.070396</td>\n      <td>0.450509</td>\n      <td>-0.847443</td>\n      <td>0.252081</td>\n      <td>2011</td>\n      <td>MZ201100000035</td>\n      <td>Maua</td>\n      <td>-1.180802</td>\n    </tr>\n    <tr>\n      <th>3</th>\n      <td>/mnt/datadisk2/preprocessed/moz/996x996_c432_f...</td>\n      <td>MZGE61FL</td>\n      <td>00000265</td>\n      <td>1.505958</td>\n      <td>1.307916</td>\n      <td>0.978158</td>\n      <td>0.762479</td>\n      <td>-0.768435</td>\n      <td>0.757215</td>\n      <td>2011</td>\n      <td>MZ201100000265</td>\n      <td>Mutarara</td>\n      <td>-1.049135</td>\n    </tr>\n    <tr>\n      <th>4</th>\n      <td>/mnt/datadisk2/preprocessed/moz/996x996_c432_f...</td>\n      <td>MZGE7AFL</td>\n      <td>00000706</td>\n      <td>0.711692</td>\n      <td>0.624403</td>\n      <td>1.090743</td>\n      <td>1.233043</td>\n      <td>0.434335</td>\n      <td>0.818843</td>\n      <td>2018</td>\n      <td>MZ201800000706</td>\n      <td>Cidade da Beira</td>\n      <td>0.797107</td>\n    </tr>\n    <tr>\n      <th>...</th>\n      <td>...</td>\n      <td>...</td>\n      <td>...</td>\n      <td>...</td>\n      <td>...</td>\n      <td>...</td>\n      <td>...</td>\n      <td>...</td>\n      <td>...</td>\n      <td>...</td>\n      <td>...</td>\n      <td>...</td>\n      <td>...</td>\n    </tr>\n    <tr>\n      <th>1130</th>\n      <td>/mnt/datadisk2/preprocessed/moz/996x996_c432_f...</td>\n      <td>MZGE7AFL</td>\n      <td>00000815</td>\n      <td>0.677243</td>\n      <td>0.359290</td>\n      <td>0.251751</td>\n      <td>1.089049</td>\n      <td>-0.762857</td>\n      <td>0.322895</td>\n      <td>2018</td>\n      <td>MZ201800000815</td>\n      <td>Massinga</td>\n      <td>-0.613603</td>\n    </tr>\n    <tr>\n      <th>1131</th>\n      <td>/mnt/datadisk2/preprocessed/moz/996x996_c432_f...</td>\n      <td>MZGE61FL</td>\n      <td>00000494</td>\n      <td>0.735824</td>\n      <td>0.936158</td>\n      <td>1.302111</td>\n      <td>1.438864</td>\n      <td>1.172320</td>\n      <td>1.117056</td>\n      <td>2011</td>\n      <td>MZ201100000494</td>\n      <td>Cidade da Matola</td>\n      <td>0.694203</td>\n    </tr>\n    <tr>\n      <th>1132</th>\n      <td>/mnt/datadisk2/preprocessed/moz/996x996_c432_f...</td>\n      <td>MZGE61FL</td>\n      <td>00000514</td>\n      <td>0.796547</td>\n      <td>0.736767</td>\n      <td>1.267061</td>\n      <td>0.968293</td>\n      <td>1.474984</td>\n      <td>1.048730</td>\n      <td>2011</td>\n      <td>MZ201100000514</td>\n      <td>Cidade da Matola</td>\n      <td>1.193693</td>\n    </tr>\n    <tr>\n      <th>1133</th>\n      <td>/mnt/datadisk2/preprocessed/moz/996x996_c432_f...</td>\n      <td>MZGE61FL</td>\n      <td>00000070</td>\n      <td>0.725215</td>\n      <td>0.931227</td>\n      <td>1.574553</td>\n      <td>0.475539</td>\n      <td>-0.908166</td>\n      <td>0.559674</td>\n      <td>2011</td>\n      <td>MZ201100000070</td>\n      <td>Chiure</td>\n      <td>-0.369461</td>\n    </tr>\n    <tr>\n      <th>1134</th>\n      <td>/mnt/datadisk2/preprocessed/moz/996x996_c432_f...</td>\n      <td>MZGE7AFL</td>\n      <td>00000606</td>\n      <td>1.694240</td>\n      <td>1.643494</td>\n      <td>2.901740</td>\n      <td>1.617561</td>\n      <td>-0.144127</td>\n      <td>1.542582</td>\n      <td>2018</td>\n      <td>MZ201800000606</td>\n      <td>Gondola</td>\n      <td>1.405729</td>\n    </tr>\n  </tbody>\n</table>\n<p>1135 rows × 13 columns</p>\n</div>"
     },
     "execution_count": 5,
     "metadata": {},
     "output_type": "execute_result"
    }
   ],
   "source": [
    "print(len(moz_2022))\n",
    "labels_df = pd.read_csv(labels_f, low_memory=False)\n",
    "labels_df['DHSYEAR'] = labels_df['DHSYEAR'].astype(int)\n",
    "print(len(labels_df))\n",
    "# duplicate_geids_labels = labels_df.duplicated(subset='GEID', keep=False)\n",
    "# duplicate_geids_labels\n",
    "moz_2022_1 = pd.merge(moz_2022, labels_df.groupby('GEID')['DHSYEAR'].min().reset_index()[['GEID', 'DHSYEAR']], on='GEID', how='left')\n",
    "print(len(moz_2022_1))\n",
    "moz_2022_1['DHSID'] = 'MZ' + moz_2022_1['DHSYEAR'].astype(int).astype(str) + moz_2022_1['cluster']\n",
    "print(len(moz_2022_1))\n",
    "moz_2022_1 = pd.merge(moz_2022_1, labels_df[['adm2_name', 'DHSID', 'PCA w_location_weighting all']], on='DHSID', how='left')\n",
    "moz_2022_1"
   ],
   "metadata": {
    "collapsed": false,
    "ExecuteTime": {
     "end_time": "2023-05-24T12:40:30.492630489Z",
     "start_time": "2023-05-24T12:40:28.234766076Z"
    }
   }
  },
  {
   "cell_type": "code",
   "execution_count": null,
   "outputs": [
    {
     "data": {
      "text/plain": "        adm2_name  year               measure  value_type     value\n0    Alto Molocue  2015  water infrastructure      Actual -1.221910\n1    Alto Molocue  2015  water infrastructure  Prediction -0.090733\n2         Ancuabe  2015  water infrastructure      Actual -0.768789\n3         Ancuabe  2015  water infrastructure  Prediction -0.564563\n4         Angoche  2015  water infrastructure      Actual -0.214193\n..            ...   ...                   ...         ...       ...\n610      Tsangano  2022  water infrastructure  Prediction  0.671022\n611     Vilankulo  2022  water infrastructure  Prediction  0.197912\n612       Xai-xai  2022  water infrastructure  Prediction  0.650911\n613        Zavala  2022  water infrastructure  Prediction  0.276251\n614         Zumbu  2022  water infrastructure  Prediction -0.222238\n\n[615 rows x 5 columns]",
      "text/html": "<div>\n<style scoped>\n    .dataframe tbody tr th:only-of-type {\n        vertical-align: middle;\n    }\n\n    .dataframe tbody tr th {\n        vertical-align: top;\n    }\n\n    .dataframe thead th {\n        text-align: right;\n    }\n</style>\n<table border=\"1\" class=\"dataframe\">\n  <thead>\n    <tr style=\"text-align: right;\">\n      <th></th>\n      <th>adm2_name</th>\n      <th>year</th>\n      <th>measure</th>\n      <th>value_type</th>\n      <th>value</th>\n    </tr>\n  </thead>\n  <tbody>\n    <tr>\n      <th>0</th>\n      <td>Alto Molocue</td>\n      <td>2015</td>\n      <td>water infrastructure</td>\n      <td>Actual</td>\n      <td>-1.221910</td>\n    </tr>\n    <tr>\n      <th>1</th>\n      <td>Alto Molocue</td>\n      <td>2015</td>\n      <td>water infrastructure</td>\n      <td>Prediction</td>\n      <td>-0.090733</td>\n    </tr>\n    <tr>\n      <th>2</th>\n      <td>Ancuabe</td>\n      <td>2015</td>\n      <td>water infrastructure</td>\n      <td>Actual</td>\n      <td>-0.768789</td>\n    </tr>\n    <tr>\n      <th>3</th>\n      <td>Ancuabe</td>\n      <td>2015</td>\n      <td>water infrastructure</td>\n      <td>Prediction</td>\n      <td>-0.564563</td>\n    </tr>\n    <tr>\n      <th>4</th>\n      <td>Angoche</td>\n      <td>2015</td>\n      <td>water infrastructure</td>\n      <td>Actual</td>\n      <td>-0.214193</td>\n    </tr>\n    <tr>\n      <th>...</th>\n      <td>...</td>\n      <td>...</td>\n      <td>...</td>\n      <td>...</td>\n      <td>...</td>\n    </tr>\n    <tr>\n      <th>610</th>\n      <td>Tsangano</td>\n      <td>2022</td>\n      <td>water infrastructure</td>\n      <td>Prediction</td>\n      <td>0.671022</td>\n    </tr>\n    <tr>\n      <th>611</th>\n      <td>Vilankulo</td>\n      <td>2022</td>\n      <td>water infrastructure</td>\n      <td>Prediction</td>\n      <td>0.197912</td>\n    </tr>\n    <tr>\n      <th>612</th>\n      <td>Xai-xai</td>\n      <td>2022</td>\n      <td>water infrastructure</td>\n      <td>Prediction</td>\n      <td>0.650911</td>\n    </tr>\n    <tr>\n      <th>613</th>\n      <td>Zavala</td>\n      <td>2022</td>\n      <td>water infrastructure</td>\n      <td>Prediction</td>\n      <td>0.276251</td>\n    </tr>\n    <tr>\n      <th>614</th>\n      <td>Zumbu</td>\n      <td>2022</td>\n      <td>water infrastructure</td>\n      <td>Prediction</td>\n      <td>-0.222238</td>\n    </tr>\n  </tbody>\n</table>\n<p>615 rows × 5 columns</p>\n</div>"
     },
     "execution_count": 6,
     "metadata": {},
     "output_type": "execute_result"
    }
   ],
   "source": [
    "moz_2022_concat = moz_2022_1[[\"DHSID\", \"adm2_name\", \"Mean Prediction\"]].rename(columns={\"Mean Prediction\": \"Prediction\"})\n",
    "moz_2022_concat['DHSYEAR'] = 2022\n",
    "l = []\n",
    "for y in [2015, 2018, 2022]:\n",
    "    for value_type in [\"Actual\", \"Prediction\"]:\n",
    "        if y == 2022:\n",
    "            if value_type == \"Actual\":\n",
    "                continue\n",
    "            df = moz_2022_concat[[\"adm2_name\", \"DHSYEAR\", value_type]].rename(columns={value_type: \"value\", 'DHSYEAR': 'year'})\n",
    "        else:\n",
    "            df = moz[moz[\"DHSYEAR\"] == y][[\"adm2_name\", \"DHSYEAR\", value_type]].rename(columns={value_type: \"value\", 'DHSYEAR': 'year'})\n",
    "        df['value_type'] = value_type\n",
    "        # print(df)\n",
    "        l.append(df)\n",
    "moz_ges = pd.concat(l)\n",
    "# moz_ges['YEAR'] = moz_ges['DHSYEAR'].astype(int)\n",
    "moz_ges = moz_ges.groupby(['year', 'adm2_name', 'value_type']).mean().reset_index()\n",
    "moz_ges['measure'] = 'water infrastructure'\n",
    "moz_ges = moz_ges[['adm2_name', 'year', 'measure', 'value_type', 'value']]\n",
    "moz_ges['year'] = moz_ges['year'].astype(int)\n",
    "moz_ges"
   ],
   "metadata": {
    "collapsed": false,
    "ExecuteTime": {
     "end_time": "2023-05-24T12:40:30.632112036Z",
     "start_time": "2023-05-24T12:40:30.493036779Z"
    }
   }
  },
  {
   "cell_type": "code",
   "execution_count": null,
   "outputs": [
    {
     "name": "stderr",
     "output_type": "stream",
     "text": [
      "/tmp/ipykernel_3112132/3249778712.py:4: SettingWithCopyWarning: \n",
      "A value is trying to be set on a copy of a slice from a DataFrame.\n",
      "Try using .loc[row_indexer,col_indexer] = value instead\n",
      "\n",
      "See the caveats in the documentation: https://pandas.pydata.org/pandas-docs/stable/user_guide/indexing.html#returning-a-view-versus-a-copy\n",
      "  moz_ges_actual['value'] = scaler.fit_transform(np.array(moz_ges_actual['value']).reshape(-1, 1))\n",
      "/tmp/ipykernel_3112132/3249778712.py:6: SettingWithCopyWarning: \n",
      "A value is trying to be set on a copy of a slice from a DataFrame.\n",
      "Try using .loc[row_indexer,col_indexer] = value instead\n",
      "\n",
      "See the caveats in the documentation: https://pandas.pydata.org/pandas-docs/stable/user_guide/indexing.html#returning-a-view-versus-a-copy\n",
      "  moz_ges_pred['value'] = scaler.fit_transform(np.array(moz_ges_pred['value']).reshape(-1, 1))\n"
     ]
    },
    {
     "data": {
      "text/plain": "        adm2_name  year               measure  value_type     value\n0    Alto Molocue  2015  water infrastructure      Actual -1.247571\n2         Ancuabe  2015  water infrastructure      Actual -0.635744\n4         Angoche  2015  water infrastructure      Actual  0.113101\n6         Angonia  2015  water infrastructure      Actual -0.080664\n8          Balama  2015  water infrastructure      Actual  0.408049\n..            ...   ...                   ...         ...       ...\n610      Tsangano  2022  water infrastructure  Prediction  1.033128\n611     Vilankulo  2022  water infrastructure  Prediction  0.207254\n612       Xai-xai  2022  water infrastructure  Prediction  0.998022\n613        Zavala  2022  water infrastructure  Prediction  0.344005\n614         Zumbu  2022  water infrastructure  Prediction -0.526171\n\n[615 rows x 5 columns]",
      "text/html": "<div>\n<style scoped>\n    .dataframe tbody tr th:only-of-type {\n        vertical-align: middle;\n    }\n\n    .dataframe tbody tr th {\n        vertical-align: top;\n    }\n\n    .dataframe thead th {\n        text-align: right;\n    }\n</style>\n<table border=\"1\" class=\"dataframe\">\n  <thead>\n    <tr style=\"text-align: right;\">\n      <th></th>\n      <th>adm2_name</th>\n      <th>year</th>\n      <th>measure</th>\n      <th>value_type</th>\n      <th>value</th>\n    </tr>\n  </thead>\n  <tbody>\n    <tr>\n      <th>0</th>\n      <td>Alto Molocue</td>\n      <td>2015</td>\n      <td>water infrastructure</td>\n      <td>Actual</td>\n      <td>-1.247571</td>\n    </tr>\n    <tr>\n      <th>2</th>\n      <td>Ancuabe</td>\n      <td>2015</td>\n      <td>water infrastructure</td>\n      <td>Actual</td>\n      <td>-0.635744</td>\n    </tr>\n    <tr>\n      <th>4</th>\n      <td>Angoche</td>\n      <td>2015</td>\n      <td>water infrastructure</td>\n      <td>Actual</td>\n      <td>0.113101</td>\n    </tr>\n    <tr>\n      <th>6</th>\n      <td>Angonia</td>\n      <td>2015</td>\n      <td>water infrastructure</td>\n      <td>Actual</td>\n      <td>-0.080664</td>\n    </tr>\n    <tr>\n      <th>8</th>\n      <td>Balama</td>\n      <td>2015</td>\n      <td>water infrastructure</td>\n      <td>Actual</td>\n      <td>0.408049</td>\n    </tr>\n    <tr>\n      <th>...</th>\n      <td>...</td>\n      <td>...</td>\n      <td>...</td>\n      <td>...</td>\n      <td>...</td>\n    </tr>\n    <tr>\n      <th>610</th>\n      <td>Tsangano</td>\n      <td>2022</td>\n      <td>water infrastructure</td>\n      <td>Prediction</td>\n      <td>1.033128</td>\n    </tr>\n    <tr>\n      <th>611</th>\n      <td>Vilankulo</td>\n      <td>2022</td>\n      <td>water infrastructure</td>\n      <td>Prediction</td>\n      <td>0.207254</td>\n    </tr>\n    <tr>\n      <th>612</th>\n      <td>Xai-xai</td>\n      <td>2022</td>\n      <td>water infrastructure</td>\n      <td>Prediction</td>\n      <td>0.998022</td>\n    </tr>\n    <tr>\n      <th>613</th>\n      <td>Zavala</td>\n      <td>2022</td>\n      <td>water infrastructure</td>\n      <td>Prediction</td>\n      <td>0.344005</td>\n    </tr>\n    <tr>\n      <th>614</th>\n      <td>Zumbu</td>\n      <td>2022</td>\n      <td>water infrastructure</td>\n      <td>Prediction</td>\n      <td>-0.526171</td>\n    </tr>\n  </tbody>\n</table>\n<p>615 rows × 5 columns</p>\n</div>"
     },
     "execution_count": 7,
     "metadata": {},
     "output_type": "execute_result"
    }
   ],
   "source": [
    "moz_ges_actual = moz_ges[moz_ges['value_type'] == 'Actual']\n",
    "moz_ges_pred = moz_ges[moz_ges['value_type'] == 'Prediction']\n",
    "scaler = StandardScaler()\n",
    "moz_ges_actual['value'] = scaler.fit_transform(np.array(moz_ges_actual['value']).reshape(-1, 1))\n",
    "scaler = StandardScaler()\n",
    "moz_ges_pred['value'] = scaler.fit_transform(np.array(moz_ges_pred['value']).reshape(-1, 1))\n",
    "moz_ges_final = pd.concat([moz_ges_actual, moz_ges_pred])\n",
    "moz_ges_final.to_csv(out_p, index=False)\n",
    "moz_ges_final"
   ],
   "metadata": {
    "collapsed": false,
    "ExecuteTime": {
     "end_time": "2023-05-24T12:40:31.044920227Z",
     "start_time": "2023-05-24T12:40:30.544022902Z"
    }
   }
  },
  {
   "cell_type": "code",
   "execution_count": null,
   "outputs": [
    {
     "data": {
      "text/plain": "             year   value_x   value_y\nyear     1.000000  0.124468 -0.094947\nvalue_x  0.124468  1.000000  0.755807\nvalue_y -0.094947  0.755807  1.000000",
      "text/html": "<div>\n<style scoped>\n    .dataframe tbody tr th:only-of-type {\n        vertical-align: middle;\n    }\n\n    .dataframe tbody tr th {\n        vertical-align: top;\n    }\n\n    .dataframe thead th {\n        text-align: right;\n    }\n</style>\n<table border=\"1\" class=\"dataframe\">\n  <thead>\n    <tr style=\"text-align: right;\">\n      <th></th>\n      <th>year</th>\n      <th>value_x</th>\n      <th>value_y</th>\n    </tr>\n  </thead>\n  <tbody>\n    <tr>\n      <th>year</th>\n      <td>1.000000</td>\n      <td>0.124468</td>\n      <td>-0.094947</td>\n    </tr>\n    <tr>\n      <th>value_x</th>\n      <td>0.124468</td>\n      <td>1.000000</td>\n      <td>0.755807</td>\n    </tr>\n    <tr>\n      <th>value_y</th>\n      <td>-0.094947</td>\n      <td>0.755807</td>\n      <td>1.000000</td>\n    </tr>\n  </tbody>\n</table>\n</div>"
     },
     "execution_count": 8,
     "metadata": {},
     "output_type": "execute_result"
    }
   ],
   "source": [
    "###From here on just analysis\n",
    "moz_comb = pd.merge(moz_ges_actual, moz_ges_pred, on=['adm2_name', 'year', 'measure'], how='left')\n",
    "moz_comb.corr()"
   ],
   "metadata": {
    "collapsed": false,
    "ExecuteTime": {
     "end_time": "2023-05-24T12:40:31.045849890Z",
     "start_time": "2023-05-24T12:40:30.977968682Z"
    }
   }
  },
  {
   "cell_type": "code",
   "execution_count": null,
   "outputs": [
    {
     "data": {
      "text/plain": "                                                   path      GEID   cluster  \\\n0     /mnt/datadisk2/preprocessed/moz/996x996_c432_f...  MZGE71FL  00000220   \n1     /mnt/datadisk2/preprocessed/moz/996x996_c432_f...  MZGE7AFL  00000117   \n2     /mnt/datadisk2/preprocessed/moz/996x996_c432_f...  MZGE61FL  00000035   \n3     /mnt/datadisk2/preprocessed/moz/996x996_c432_f...  MZGE61FL  00000265   \n4     /mnt/datadisk2/preprocessed/moz/996x996_c432_f...  MZGE7AFL  00000706   \n...                                                 ...       ...       ...   \n1130  /mnt/datadisk2/preprocessed/moz/996x996_c432_f...  MZGE7AFL  00000815   \n1131  /mnt/datadisk2/preprocessed/moz/996x996_c432_f...  MZGE61FL  00000494   \n1132  /mnt/datadisk2/preprocessed/moz/996x996_c432_f...  MZGE61FL  00000514   \n1133  /mnt/datadisk2/preprocessed/moz/996x996_c432_f...  MZGE61FL  00000070   \n1134  /mnt/datadisk2/preprocessed/moz/996x996_c432_f...  MZGE7AFL  00000606   \n\n      Model_split 0  Model_split 2  Model_split 3  Model_split 4  \\\n0          0.849035       0.959860       1.417553      -0.110858   \n1          0.726881       0.703625       0.329767      -0.133058   \n2          1.149988       0.577746      -0.070396       0.450509   \n3          1.505958       1.307916       0.978158       0.762479   \n4          0.711692       0.624403       1.090743       1.233043   \n...             ...            ...            ...            ...   \n1130       0.677243       0.359290       0.251751       1.089049   \n1131       0.735824       0.936158       1.302111       1.438864   \n1132       0.796547       0.736767       1.267061       0.968293   \n1133       0.725215       0.931227       1.574553       0.475539   \n1134       1.694240       1.643494       2.901740       1.617561   \n\n      Model_split 5  Mean Prediction  DHSYEAR           DHSID  \\\n0         -0.862770         0.450564     2015  MZ201500000220   \n1         -0.658869         0.193669     2018  MZ201800000117   \n2         -0.847443         0.252081     2011  MZ201100000035   \n3         -0.768435         0.757215     2011  MZ201100000265   \n4          0.434335         0.818843     2018  MZ201800000706   \n...             ...              ...      ...             ...   \n1130      -0.762857         0.322895     2018  MZ201800000815   \n1131       1.172320         1.117056     2011  MZ201100000494   \n1132       1.474984         1.048730     2011  MZ201100000514   \n1133      -0.908166         0.559674     2011  MZ201100000070   \n1134      -0.144127         1.542582     2018  MZ201800000606   \n\n             adm2_name  PCA w_location_weighting all    Actual  Prediction  \n0               Chiure                     -0.916493 -0.874906   -0.541567  \n1           Mecanhelas                     -0.369331 -0.335729   -0.361105  \n2                 Maua                     -1.180802       NaN         NaN  \n3             Mutarara                     -1.049135       NaN         NaN  \n4      Cidade da Beira                      0.797107  0.813687    0.469503  \n...                ...                           ...       ...         ...  \n1130          Massinga                     -0.613603 -0.576436   -0.538665  \n1131  Cidade da Matola                      0.694203       NaN         NaN  \n1132  Cidade da Matola                      1.193693       NaN         NaN  \n1133            Chiure                     -0.369461       NaN         NaN  \n1134           Gondola                      1.405729  1.413428   -0.217556  \n\n[1135 rows x 15 columns]",
      "text/html": "<div>\n<style scoped>\n    .dataframe tbody tr th:only-of-type {\n        vertical-align: middle;\n    }\n\n    .dataframe tbody tr th {\n        vertical-align: top;\n    }\n\n    .dataframe thead th {\n        text-align: right;\n    }\n</style>\n<table border=\"1\" class=\"dataframe\">\n  <thead>\n    <tr style=\"text-align: right;\">\n      <th></th>\n      <th>path</th>\n      <th>GEID</th>\n      <th>cluster</th>\n      <th>Model_split 0</th>\n      <th>Model_split 2</th>\n      <th>Model_split 3</th>\n      <th>Model_split 4</th>\n      <th>Model_split 5</th>\n      <th>Mean Prediction</th>\n      <th>DHSYEAR</th>\n      <th>DHSID</th>\n      <th>adm2_name</th>\n      <th>PCA w_location_weighting all</th>\n      <th>Actual</th>\n      <th>Prediction</th>\n    </tr>\n  </thead>\n  <tbody>\n    <tr>\n      <th>0</th>\n      <td>/mnt/datadisk2/preprocessed/moz/996x996_c432_f...</td>\n      <td>MZGE71FL</td>\n      <td>00000220</td>\n      <td>0.849035</td>\n      <td>0.959860</td>\n      <td>1.417553</td>\n      <td>-0.110858</td>\n      <td>-0.862770</td>\n      <td>0.450564</td>\n      <td>2015</td>\n      <td>MZ201500000220</td>\n      <td>Chiure</td>\n      <td>-0.916493</td>\n      <td>-0.874906</td>\n      <td>-0.541567</td>\n    </tr>\n    <tr>\n      <th>1</th>\n      <td>/mnt/datadisk2/preprocessed/moz/996x996_c432_f...</td>\n      <td>MZGE7AFL</td>\n      <td>00000117</td>\n      <td>0.726881</td>\n      <td>0.703625</td>\n      <td>0.329767</td>\n      <td>-0.133058</td>\n      <td>-0.658869</td>\n      <td>0.193669</td>\n      <td>2018</td>\n      <td>MZ201800000117</td>\n      <td>Mecanhelas</td>\n      <td>-0.369331</td>\n      <td>-0.335729</td>\n      <td>-0.361105</td>\n    </tr>\n    <tr>\n      <th>2</th>\n      <td>/mnt/datadisk2/preprocessed/moz/996x996_c432_f...</td>\n      <td>MZGE61FL</td>\n      <td>00000035</td>\n      <td>1.149988</td>\n      <td>0.577746</td>\n      <td>-0.070396</td>\n      <td>0.450509</td>\n      <td>-0.847443</td>\n      <td>0.252081</td>\n      <td>2011</td>\n      <td>MZ201100000035</td>\n      <td>Maua</td>\n      <td>-1.180802</td>\n      <td>NaN</td>\n      <td>NaN</td>\n    </tr>\n    <tr>\n      <th>3</th>\n      <td>/mnt/datadisk2/preprocessed/moz/996x996_c432_f...</td>\n      <td>MZGE61FL</td>\n      <td>00000265</td>\n      <td>1.505958</td>\n      <td>1.307916</td>\n      <td>0.978158</td>\n      <td>0.762479</td>\n      <td>-0.768435</td>\n      <td>0.757215</td>\n      <td>2011</td>\n      <td>MZ201100000265</td>\n      <td>Mutarara</td>\n      <td>-1.049135</td>\n      <td>NaN</td>\n      <td>NaN</td>\n    </tr>\n    <tr>\n      <th>4</th>\n      <td>/mnt/datadisk2/preprocessed/moz/996x996_c432_f...</td>\n      <td>MZGE7AFL</td>\n      <td>00000706</td>\n      <td>0.711692</td>\n      <td>0.624403</td>\n      <td>1.090743</td>\n      <td>1.233043</td>\n      <td>0.434335</td>\n      <td>0.818843</td>\n      <td>2018</td>\n      <td>MZ201800000706</td>\n      <td>Cidade da Beira</td>\n      <td>0.797107</td>\n      <td>0.813687</td>\n      <td>0.469503</td>\n    </tr>\n    <tr>\n      <th>...</th>\n      <td>...</td>\n      <td>...</td>\n      <td>...</td>\n      <td>...</td>\n      <td>...</td>\n      <td>...</td>\n      <td>...</td>\n      <td>...</td>\n      <td>...</td>\n      <td>...</td>\n      <td>...</td>\n      <td>...</td>\n      <td>...</td>\n      <td>...</td>\n      <td>...</td>\n    </tr>\n    <tr>\n      <th>1130</th>\n      <td>/mnt/datadisk2/preprocessed/moz/996x996_c432_f...</td>\n      <td>MZGE7AFL</td>\n      <td>00000815</td>\n      <td>0.677243</td>\n      <td>0.359290</td>\n      <td>0.251751</td>\n      <td>1.089049</td>\n      <td>-0.762857</td>\n      <td>0.322895</td>\n      <td>2018</td>\n      <td>MZ201800000815</td>\n      <td>Massinga</td>\n      <td>-0.613603</td>\n      <td>-0.576436</td>\n      <td>-0.538665</td>\n    </tr>\n    <tr>\n      <th>1131</th>\n      <td>/mnt/datadisk2/preprocessed/moz/996x996_c432_f...</td>\n      <td>MZGE61FL</td>\n      <td>00000494</td>\n      <td>0.735824</td>\n      <td>0.936158</td>\n      <td>1.302111</td>\n      <td>1.438864</td>\n      <td>1.172320</td>\n      <td>1.117056</td>\n      <td>2011</td>\n      <td>MZ201100000494</td>\n      <td>Cidade da Matola</td>\n      <td>0.694203</td>\n      <td>NaN</td>\n      <td>NaN</td>\n    </tr>\n    <tr>\n      <th>1132</th>\n      <td>/mnt/datadisk2/preprocessed/moz/996x996_c432_f...</td>\n      <td>MZGE61FL</td>\n      <td>00000514</td>\n      <td>0.796547</td>\n      <td>0.736767</td>\n      <td>1.267061</td>\n      <td>0.968293</td>\n      <td>1.474984</td>\n      <td>1.048730</td>\n      <td>2011</td>\n      <td>MZ201100000514</td>\n      <td>Cidade da Matola</td>\n      <td>1.193693</td>\n      <td>NaN</td>\n      <td>NaN</td>\n    </tr>\n    <tr>\n      <th>1133</th>\n      <td>/mnt/datadisk2/preprocessed/moz/996x996_c432_f...</td>\n      <td>MZGE61FL</td>\n      <td>00000070</td>\n      <td>0.725215</td>\n      <td>0.931227</td>\n      <td>1.574553</td>\n      <td>0.475539</td>\n      <td>-0.908166</td>\n      <td>0.559674</td>\n      <td>2011</td>\n      <td>MZ201100000070</td>\n      <td>Chiure</td>\n      <td>-0.369461</td>\n      <td>NaN</td>\n      <td>NaN</td>\n    </tr>\n    <tr>\n      <th>1134</th>\n      <td>/mnt/datadisk2/preprocessed/moz/996x996_c432_f...</td>\n      <td>MZGE7AFL</td>\n      <td>00000606</td>\n      <td>1.694240</td>\n      <td>1.643494</td>\n      <td>2.901740</td>\n      <td>1.617561</td>\n      <td>-0.144127</td>\n      <td>1.542582</td>\n      <td>2018</td>\n      <td>MZ201800000606</td>\n      <td>Gondola</td>\n      <td>1.405729</td>\n      <td>1.413428</td>\n      <td>-0.217556</td>\n    </tr>\n  </tbody>\n</table>\n<p>1135 rows × 15 columns</p>\n</div>"
     },
     "execution_count": 9,
     "metadata": {},
     "output_type": "execute_result"
    }
   ],
   "source": [
    "moz_2022_3 = pd.merge(moz_2022_1, moz[[ 'DHSID', 'Actual', 'Prediction']], on=['DHSID'], how='left')\n",
    "moz_2022_3"
   ],
   "metadata": {
    "collapsed": false,
    "ExecuteTime": {
     "end_time": "2023-05-24T12:40:31.057508165Z",
     "start_time": "2023-05-24T12:40:30.979505564Z"
    }
   }
  },
  {
   "cell_type": "code",
   "execution_count": null,
   "outputs": [
    {
     "name": "stdout",
     "output_type": "stream",
     "text": [
      "                              Model_split 0  Model_split 2  Model_split 3  \\\n",
      "Model_split 0                      1.000000       0.667595       0.538863   \n",
      "Model_split 2                      0.667595       1.000000       0.750904   \n",
      "Model_split 3                      0.538863       0.750904       1.000000   \n",
      "Model_split 4                      0.604725       0.639341       0.606612   \n",
      "Model_split 5                      0.317679       0.606847       0.620684   \n",
      "Mean Prediction                    0.673794       0.854269       0.869069   \n",
      "DHSYEAR                           -0.034792      -0.009675      -0.040844   \n",
      "PCA w_location_weighting all       0.236997       0.491825       0.491489   \n",
      "Actual                             0.253996       0.465434       0.530706   \n",
      "Prediction                         0.239252       0.477261       0.519428   \n",
      "\n",
      "                              Model_split 4  Model_split 5  Mean Prediction  \\\n",
      "Model_split 0                      0.604725       0.317679         0.673794   \n",
      "Model_split 2                      0.639341       0.606847         0.854269   \n",
      "Model_split 3                      0.606612       0.620684         0.869069   \n",
      "Model_split 4                      1.000000       0.732679         0.871311   \n",
      "Model_split 5                      0.732679       1.000000         0.842134   \n",
      "Mean Prediction                    0.871311       0.842134         1.000000   \n",
      "DHSYEAR                           -0.041207      -0.021424        -0.036645   \n",
      "PCA w_location_weighting all       0.647240       0.807479         0.689720   \n",
      "Actual                             0.649977       0.825165         0.700824   \n",
      "Prediction                         0.692706       0.903246         0.731456   \n",
      "\n",
      "                               DHSYEAR  PCA w_location_weighting all  \\\n",
      "Model_split 0                -0.034792                      0.236997   \n",
      "Model_split 2                -0.009675                      0.491825   \n",
      "Model_split 3                -0.040844                      0.491489   \n",
      "Model_split 4                -0.041207                      0.647240   \n",
      "Model_split 5                -0.021424                      0.807479   \n",
      "Mean Prediction              -0.036645                      0.689720   \n",
      "DHSYEAR                       1.000000                      0.134190   \n",
      "PCA w_location_weighting all  0.134190                      1.000000   \n",
      "Actual                        0.025030                      1.000000   \n",
      "Prediction                   -0.122126                      0.832946   \n",
      "\n",
      "                                Actual  Prediction  \n",
      "Model_split 0                 0.253996    0.239252  \n",
      "Model_split 2                 0.465434    0.477261  \n",
      "Model_split 3                 0.530706    0.519428  \n",
      "Model_split 4                 0.649977    0.692706  \n",
      "Model_split 5                 0.825165    0.903246  \n",
      "Mean Prediction               0.700824    0.731456  \n",
      "DHSYEAR                       0.025030   -0.122126  \n",
      "PCA w_location_weighting all  1.000000    0.832946  \n",
      "Actual                        1.000000    0.832946  \n",
      "Prediction                    0.832946    1.000000  \n"
     ]
    }
   ],
   "source": [
    "print(moz_2022_3.corr())"
   ],
   "metadata": {
    "collapsed": false,
    "ExecuteTime": {
     "end_time": "2023-05-24T12:40:31.062202668Z",
     "start_time": "2023-05-24T12:40:31.024113312Z"
    }
   }
  },
  {
   "cell_type": "code",
   "execution_count": null,
   "outputs": [
    {
     "data": {
      "text/plain": "        adm2_name  Model_split 0  Model_split 2  Model_split 3  Model_split 4  \\\n0    Alto Molocue       1.148021       0.914211       0.257807       0.918603   \n1         Ancuabe       0.983099       0.901288       1.300425       0.606844   \n2         Angoche       0.481953       0.276218       0.005808       0.068477   \n3         Angonia       1.005390       1.071326       1.220308       0.777284   \n4          Balama       0.778061       0.951241       0.108821       0.456300   \n..            ...            ...            ...            ...            ...   \n134      Tsangano       1.172046       1.068676       0.689516       0.894162   \n135     Vilankulo       0.555886       0.339380       0.083928       0.473016   \n136       Xai-xai       1.049383       0.745358       0.717706       0.679144   \n137        Zavala       0.753247       0.656038       0.184062       0.329444   \n138         Zumbu       0.019827       0.342844       0.211958      -0.877309   \n\n     Model_split 5  Mean Prediction      DHSYEAR  \\\n0        -0.617646         0.524199  2014.000000   \n1        -0.549076         0.648516  2012.571429   \n2        -0.323974         0.101696  2013.444444   \n3        -0.356587         0.743544  2013.312500   \n4        -0.311107         0.396663  2013.750000   \n..             ...              ...          ...   \n134      -0.469290         0.671022  2013.750000   \n135      -0.462651         0.197912  2013.500000   \n136       0.062965         0.650911  2013.411765   \n137      -0.541537         0.276251  2013.750000   \n138      -0.808509        -0.222238  2013.000000   \n\n     PCA w_location_weighting all    Actual  Prediction  \n0                       -0.887865 -0.732506   -0.348485  \n1                       -0.793541 -0.697130   -0.534476  \n2                       -0.579968 -0.226652    0.001634  \n3                       -0.653722 -0.507464   -0.444727  \n4                       -0.362352 -0.143986   -0.373252  \n..                            ...       ...         ...  \n134                     -0.846822 -0.771895   -0.544186  \n135                     -0.152211  0.078167    0.402755  \n136                     -0.259026  0.013639    0.186112  \n137                     -0.699003 -0.457969   -0.268455  \n138                     -1.251334 -1.131172   -0.608275  \n\n[139 rows x 11 columns]",
      "text/html": "<div>\n<style scoped>\n    .dataframe tbody tr th:only-of-type {\n        vertical-align: middle;\n    }\n\n    .dataframe tbody tr th {\n        vertical-align: top;\n    }\n\n    .dataframe thead th {\n        text-align: right;\n    }\n</style>\n<table border=\"1\" class=\"dataframe\">\n  <thead>\n    <tr style=\"text-align: right;\">\n      <th></th>\n      <th>adm2_name</th>\n      <th>Model_split 0</th>\n      <th>Model_split 2</th>\n      <th>Model_split 3</th>\n      <th>Model_split 4</th>\n      <th>Model_split 5</th>\n      <th>Mean Prediction</th>\n      <th>DHSYEAR</th>\n      <th>PCA w_location_weighting all</th>\n      <th>Actual</th>\n      <th>Prediction</th>\n    </tr>\n  </thead>\n  <tbody>\n    <tr>\n      <th>0</th>\n      <td>Alto Molocue</td>\n      <td>1.148021</td>\n      <td>0.914211</td>\n      <td>0.257807</td>\n      <td>0.918603</td>\n      <td>-0.617646</td>\n      <td>0.524199</td>\n      <td>2014.000000</td>\n      <td>-0.887865</td>\n      <td>-0.732506</td>\n      <td>-0.348485</td>\n    </tr>\n    <tr>\n      <th>1</th>\n      <td>Ancuabe</td>\n      <td>0.983099</td>\n      <td>0.901288</td>\n      <td>1.300425</td>\n      <td>0.606844</td>\n      <td>-0.549076</td>\n      <td>0.648516</td>\n      <td>2012.571429</td>\n      <td>-0.793541</td>\n      <td>-0.697130</td>\n      <td>-0.534476</td>\n    </tr>\n    <tr>\n      <th>2</th>\n      <td>Angoche</td>\n      <td>0.481953</td>\n      <td>0.276218</td>\n      <td>0.005808</td>\n      <td>0.068477</td>\n      <td>-0.323974</td>\n      <td>0.101696</td>\n      <td>2013.444444</td>\n      <td>-0.579968</td>\n      <td>-0.226652</td>\n      <td>0.001634</td>\n    </tr>\n    <tr>\n      <th>3</th>\n      <td>Angonia</td>\n      <td>1.005390</td>\n      <td>1.071326</td>\n      <td>1.220308</td>\n      <td>0.777284</td>\n      <td>-0.356587</td>\n      <td>0.743544</td>\n      <td>2013.312500</td>\n      <td>-0.653722</td>\n      <td>-0.507464</td>\n      <td>-0.444727</td>\n    </tr>\n    <tr>\n      <th>4</th>\n      <td>Balama</td>\n      <td>0.778061</td>\n      <td>0.951241</td>\n      <td>0.108821</td>\n      <td>0.456300</td>\n      <td>-0.311107</td>\n      <td>0.396663</td>\n      <td>2013.750000</td>\n      <td>-0.362352</td>\n      <td>-0.143986</td>\n      <td>-0.373252</td>\n    </tr>\n    <tr>\n      <th>...</th>\n      <td>...</td>\n      <td>...</td>\n      <td>...</td>\n      <td>...</td>\n      <td>...</td>\n      <td>...</td>\n      <td>...</td>\n      <td>...</td>\n      <td>...</td>\n      <td>...</td>\n      <td>...</td>\n    </tr>\n    <tr>\n      <th>134</th>\n      <td>Tsangano</td>\n      <td>1.172046</td>\n      <td>1.068676</td>\n      <td>0.689516</td>\n      <td>0.894162</td>\n      <td>-0.469290</td>\n      <td>0.671022</td>\n      <td>2013.750000</td>\n      <td>-0.846822</td>\n      <td>-0.771895</td>\n      <td>-0.544186</td>\n    </tr>\n    <tr>\n      <th>135</th>\n      <td>Vilankulo</td>\n      <td>0.555886</td>\n      <td>0.339380</td>\n      <td>0.083928</td>\n      <td>0.473016</td>\n      <td>-0.462651</td>\n      <td>0.197912</td>\n      <td>2013.500000</td>\n      <td>-0.152211</td>\n      <td>0.078167</td>\n      <td>0.402755</td>\n    </tr>\n    <tr>\n      <th>136</th>\n      <td>Xai-xai</td>\n      <td>1.049383</td>\n      <td>0.745358</td>\n      <td>0.717706</td>\n      <td>0.679144</td>\n      <td>0.062965</td>\n      <td>0.650911</td>\n      <td>2013.411765</td>\n      <td>-0.259026</td>\n      <td>0.013639</td>\n      <td>0.186112</td>\n    </tr>\n    <tr>\n      <th>137</th>\n      <td>Zavala</td>\n      <td>0.753247</td>\n      <td>0.656038</td>\n      <td>0.184062</td>\n      <td>0.329444</td>\n      <td>-0.541537</td>\n      <td>0.276251</td>\n      <td>2013.750000</td>\n      <td>-0.699003</td>\n      <td>-0.457969</td>\n      <td>-0.268455</td>\n    </tr>\n    <tr>\n      <th>138</th>\n      <td>Zumbu</td>\n      <td>0.019827</td>\n      <td>0.342844</td>\n      <td>0.211958</td>\n      <td>-0.877309</td>\n      <td>-0.808509</td>\n      <td>-0.222238</td>\n      <td>2013.000000</td>\n      <td>-1.251334</td>\n      <td>-1.131172</td>\n      <td>-0.608275</td>\n    </tr>\n  </tbody>\n</table>\n<p>139 rows × 11 columns</p>\n</div>"
     },
     "execution_count": 11,
     "metadata": {},
     "output_type": "execute_result"
    }
   ],
   "source": [
    "moz_2022_2 = moz_2022_3.groupby('adm2_name').mean()\n",
    "moz_2022_2 = moz_2022_2.reset_index()\n",
    "moz_2022_2"
   ],
   "metadata": {
    "collapsed": false,
    "ExecuteTime": {
     "end_time": "2023-05-24T12:40:31.173583877Z",
     "start_time": "2023-05-24T12:40:31.061712247Z"
    }
   }
  },
  {
   "cell_type": "code",
   "execution_count": null,
   "outputs": [
    {
     "name": "stdout",
     "output_type": "stream",
     "text": [
      "                              Model_split 0  Model_split 2  Model_split 3  \\\n",
      "Model_split 0                      1.000000       0.716853       0.632913   \n",
      "Model_split 2                      0.716853       1.000000       0.815958   \n",
      "Model_split 3                      0.632913       0.815958       1.000000   \n",
      "Model_split 4                      0.699154       0.616851       0.642109   \n",
      "Model_split 5                      0.349870       0.559483       0.595396   \n",
      "Mean Prediction                    0.766476       0.866326       0.894540   \n",
      "DHSYEAR                           -0.022909       0.154675       0.025973   \n",
      "PCA w_location_weighting all       0.254657       0.383759       0.410286   \n",
      "Actual                             0.266584       0.358112       0.427476   \n",
      "Prediction                         0.218856       0.373173       0.451662   \n",
      "\n",
      "                              Model_split 4  Model_split 5  Mean Prediction  \\\n",
      "Model_split 0                      0.699154       0.349870         0.766476   \n",
      "Model_split 2                      0.616851       0.559483         0.866326   \n",
      "Model_split 3                      0.642109       0.595396         0.894540   \n",
      "Model_split 4                      1.000000       0.647996         0.863533   \n",
      "Model_split 5                      0.647996       1.000000         0.784301   \n",
      "Mean Prediction                    0.863533       0.784301         1.000000   \n",
      "DHSYEAR                           -0.017748      -0.018164         0.023361   \n",
      "PCA w_location_weighting all       0.514621       0.787664         0.586566   \n",
      "Actual                             0.515551       0.767997         0.585493   \n",
      "Prediction                         0.600058       0.872771         0.638867   \n",
      "\n",
      "                               DHSYEAR  PCA w_location_weighting all  \\\n",
      "Model_split 0                -0.022909                      0.254657   \n",
      "Model_split 2                 0.154675                      0.383759   \n",
      "Model_split 3                 0.025973                      0.410286   \n",
      "Model_split 4                -0.017748                      0.514621   \n",
      "Model_split 5                -0.018164                      0.787664   \n",
      "Mean Prediction               0.023361                      0.586566   \n",
      "DHSYEAR                       1.000000                      0.061794   \n",
      "PCA w_location_weighting all  0.061794                      1.000000   \n",
      "Actual                        0.003569                      0.922766   \n",
      "Prediction                   -0.071580                      0.834081   \n",
      "\n",
      "                                Actual  Prediction  \n",
      "Model_split 0                 0.266584    0.218856  \n",
      "Model_split 2                 0.358112    0.373173  \n",
      "Model_split 3                 0.427476    0.451662  \n",
      "Model_split 4                 0.515551    0.600058  \n",
      "Model_split 5                 0.767997    0.872771  \n",
      "Mean Prediction               0.585493    0.638867  \n",
      "DHSYEAR                       0.003569   -0.071580  \n",
      "PCA w_location_weighting all  0.922766    0.834081  \n",
      "Actual                        1.000000    0.815455  \n",
      "Prediction                    0.815455    1.000000  \n"
     ]
    }
   ],
   "source": [
    "print(moz_2022_2.corr())"
   ],
   "metadata": {
    "collapsed": false,
    "ExecuteTime": {
     "end_time": "2023-05-24T12:40:31.318260813Z",
     "start_time": "2023-05-24T12:40:31.107029972Z"
    }
   }
  },
  {
   "cell_type": "code",
   "execution_count": null,
   "outputs": [
    {
     "name": "stdout",
     "output_type": "stream",
     "text": [
      "Abs Error 0.45564745672060325\n",
      "0.36820154677812517\n",
      "Ges             Prediction    Actual\n",
      "Prediction    1.000000  0.832056\n",
      "Actual        0.832056  1.000000\n",
      "2015             Prediction    Actual\n",
      "Prediction    1.000000  0.840822\n",
      "Actual        0.840822  1.000000\n",
      "2018             Prediction    Actual\n",
      "Prediction    1.000000  0.842557\n",
      "Actual        0.842557  1.000000\n",
      "length 2015 306\n",
      "length 2018 221\n"
     ]
    }
   ],
   "source": [
    "print('Abs Error', moz['Absolute Error'].mean())\n",
    "print(moz['Absolute Error'].std())\n",
    "print('Ges', moz[['Prediction', 'Actual']].corr())\n",
    "print('2015', moz[moz['DHSYEAR'] == 2015][['Prediction', 'Actual']].corr())\n",
    "print('2018', moz[moz['DHSYEAR'] == 2018][['Prediction', 'Actual']].corr())\n",
    "# print('2015 normed', moz[moz['DHSYEAR'] == 2015][['Prediction normalized', 'Actual normalized']].corr())\n",
    "# print('2018 normed', moz[moz['DHSYEAR'] == 2018][['Prediction normalized', 'Actual normalized']].corr())\n",
    "print('length 2015', moz[moz['DHSYEAR'] == 2015].shape[0])\n",
    "print('length 2018', moz[moz['DHSYEAR'] == 2018].shape[0])"
   ],
   "metadata": {
    "collapsed": false,
    "ExecuteTime": {
     "end_time": "2023-05-24T12:40:31.360614065Z",
     "start_time": "2023-05-24T12:40:31.143643513Z"
    }
   }
  },
  {
   "cell_type": "code",
   "execution_count": null,
   "outputs": [
    {
     "data": {
      "text/plain": "        adm2_name  Actual_x  Prediction_x  Actual_y  Prediction_y\n0     Sussundenga -0.812436     -0.771947 -1.293991     -0.418126\n1     Sussundenga -0.812436     -0.771947  0.009529     -0.266636\n2     Sussundenga -0.598625     -0.495605 -1.293991     -0.418126\n3     Sussundenga -0.598625     -0.495605  0.009529     -0.266636\n4         Manhica  1.135016      0.761403  1.156552      0.424498\n...           ...       ...           ...       ...           ...\n1165     Changara -1.201964     -0.655193 -0.829826     -0.600753\n1166         Guro -0.627667     -0.706729 -0.821807     -0.656927\n1167        Panda  1.390322      0.411566  1.019685     -0.194347\n1168      Macossa       NaN           NaN -0.742137     -0.516984\n1169       Mavago       NaN           NaN -0.213756     -0.487332\n\n[1170 rows x 5 columns]",
      "text/html": "<div>\n<style scoped>\n    .dataframe tbody tr th:only-of-type {\n        vertical-align: middle;\n    }\n\n    .dataframe tbody tr th {\n        vertical-align: top;\n    }\n\n    .dataframe thead th {\n        text-align: right;\n    }\n</style>\n<table border=\"1\" class=\"dataframe\">\n  <thead>\n    <tr style=\"text-align: right;\">\n      <th></th>\n      <th>adm2_name</th>\n      <th>Actual_x</th>\n      <th>Prediction_x</th>\n      <th>Actual_y</th>\n      <th>Prediction_y</th>\n    </tr>\n  </thead>\n  <tbody>\n    <tr>\n      <th>0</th>\n      <td>Sussundenga</td>\n      <td>-0.812436</td>\n      <td>-0.771947</td>\n      <td>-1.293991</td>\n      <td>-0.418126</td>\n    </tr>\n    <tr>\n      <th>1</th>\n      <td>Sussundenga</td>\n      <td>-0.812436</td>\n      <td>-0.771947</td>\n      <td>0.009529</td>\n      <td>-0.266636</td>\n    </tr>\n    <tr>\n      <th>2</th>\n      <td>Sussundenga</td>\n      <td>-0.598625</td>\n      <td>-0.495605</td>\n      <td>-1.293991</td>\n      <td>-0.418126</td>\n    </tr>\n    <tr>\n      <th>3</th>\n      <td>Sussundenga</td>\n      <td>-0.598625</td>\n      <td>-0.495605</td>\n      <td>0.009529</td>\n      <td>-0.266636</td>\n    </tr>\n    <tr>\n      <th>4</th>\n      <td>Manhica</td>\n      <td>1.135016</td>\n      <td>0.761403</td>\n      <td>1.156552</td>\n      <td>0.424498</td>\n    </tr>\n    <tr>\n      <th>...</th>\n      <td>...</td>\n      <td>...</td>\n      <td>...</td>\n      <td>...</td>\n      <td>...</td>\n    </tr>\n    <tr>\n      <th>1165</th>\n      <td>Changara</td>\n      <td>-1.201964</td>\n      <td>-0.655193</td>\n      <td>-0.829826</td>\n      <td>-0.600753</td>\n    </tr>\n    <tr>\n      <th>1166</th>\n      <td>Guro</td>\n      <td>-0.627667</td>\n      <td>-0.706729</td>\n      <td>-0.821807</td>\n      <td>-0.656927</td>\n    </tr>\n    <tr>\n      <th>1167</th>\n      <td>Panda</td>\n      <td>1.390322</td>\n      <td>0.411566</td>\n      <td>1.019685</td>\n      <td>-0.194347</td>\n    </tr>\n    <tr>\n      <th>1168</th>\n      <td>Macossa</td>\n      <td>NaN</td>\n      <td>NaN</td>\n      <td>-0.742137</td>\n      <td>-0.516984</td>\n    </tr>\n    <tr>\n      <th>1169</th>\n      <td>Mavago</td>\n      <td>NaN</td>\n      <td>NaN</td>\n      <td>-0.213756</td>\n      <td>-0.487332</td>\n    </tr>\n  </tbody>\n</table>\n<p>1170 rows × 5 columns</p>\n</div>"
     },
     "execution_count": 14,
     "metadata": {},
     "output_type": "execute_result"
    }
   ],
   "source": [
    "moz2 = pd.merge(moz[moz['DHSYEAR'] == 2015][['adm2_name', 'Actual', 'Prediction']], moz[moz['DHSYEAR'] == 2018][['adm2_name', 'Actual', 'Prediction']], on='adm2_name', how='outer')\n",
    "moz2"
   ],
   "metadata": {
    "collapsed": false,
    "ExecuteTime": {
     "end_time": "2023-05-24T12:40:31.527368593Z",
     "start_time": "2023-05-24T12:40:31.188305482Z"
    }
   }
  },
  {
   "cell_type": "code",
   "execution_count": null,
   "outputs": [
    {
     "name": "stdout",
     "output_type": "stream",
     "text": [
      "Differences between years\n",
      "               Actual_x  Prediction_x  Actual_y  Prediction_y\n",
      "Actual_x      1.000000      0.881813  0.744484      0.796612\n",
      "Prediction_x  0.881813      1.000000  0.804176      0.861656\n",
      "Actual_y      0.744484      0.804176  1.000000      0.889170\n",
      "Prediction_y  0.796612      0.861656  0.889170      1.000000\n",
      "rmse actual 0.7626821021692093\n",
      "rmse 2015 0.5646154791240786\n",
      "rmse 2018 0.545296836904437\n",
      "rmse pred 0.43793493540137296\n"
     ]
    }
   ],
   "source": [
    "print('Differences between years\\n', moz2.corr())\n",
    "print('rmse actual', ((moz2['Actual_x'] - moz2['Actual_y']) ** 2).mean() ** .5)\n",
    "print('rmse 2015', ((moz2['Actual_x'] - moz2['Prediction_x']) ** 2).mean() ** .5)\n",
    "print('rmse 2018', ((moz2['Actual_y'] - moz2['Prediction_y']) ** 2).mean() ** .5)\n",
    "print('rmse pred', ((moz2['Prediction_x'] - moz2['Prediction_y']) ** 2).mean() ** .5)"
   ],
   "metadata": {
    "collapsed": false,
    "ExecuteTime": {
     "end_time": "2023-05-24T12:40:31.624226938Z",
     "start_time": "2023-05-24T12:40:31.230980163Z"
    }
   }
  },
  {
   "cell_type": "code",
   "execution_count": null,
   "outputs": [
    {
     "ename": "KeyError",
     "evalue": "\"['Prediction normalized'] not in index\"",
     "output_type": "error",
     "traceback": [
      "\u001B[0;31m---------------------------------------------------------------------------\u001B[0m",
      "\u001B[0;31mKeyError\u001B[0m                                  Traceback (most recent call last)",
      "Input \u001B[0;32mIn [16]\u001B[0m, in \u001B[0;36m<cell line: 1>\u001B[0;34m()\u001B[0m\n\u001B[0;32m----> 1\u001B[0m final_df \u001B[38;5;241m=\u001B[39m \u001B[43mmoz\u001B[49m\u001B[43m[\u001B[49m\u001B[43m[\u001B[49m\u001B[38;5;124;43m'\u001B[39;49m\u001B[38;5;124;43madm2_name\u001B[39;49m\u001B[38;5;124;43m'\u001B[39;49m\u001B[43m,\u001B[49m\u001B[43m \u001B[49m\u001B[38;5;124;43m'\u001B[39;49m\u001B[38;5;124;43mDHSYEAR\u001B[39;49m\u001B[38;5;124;43m'\u001B[39;49m\u001B[43m,\u001B[49m\u001B[43m \u001B[49m\u001B[38;5;124;43m'\u001B[39;49m\u001B[38;5;124;43mPrediction normalized\u001B[39;49m\u001B[38;5;124;43m'\u001B[39;49m\u001B[43m]\u001B[49m\u001B[43m]\u001B[49m\n\u001B[1;32m      2\u001B[0m final_df \u001B[38;5;241m=\u001B[39m final_df\u001B[38;5;241m.\u001B[39mrename(columns\u001B[38;5;241m=\u001B[39m{\u001B[38;5;124m'\u001B[39m\u001B[38;5;124mPrediction normalized\u001B[39m\u001B[38;5;124m'\u001B[39m: \u001B[38;5;124m'\u001B[39m\u001B[38;5;124mValue\u001B[39m\u001B[38;5;124m'\u001B[39m, \u001B[38;5;124m'\u001B[39m\u001B[38;5;124mDHSYEAR\u001B[39m\u001B[38;5;124m'\u001B[39m: \u001B[38;5;124m'\u001B[39m\u001B[38;5;124mYear\u001B[39m\u001B[38;5;124m'\u001B[39m})\n\u001B[1;32m      3\u001B[0m final_df[\u001B[38;5;124m'\u001B[39m\u001B[38;5;124mYear\u001B[39m\u001B[38;5;124m'\u001B[39m] \u001B[38;5;241m=\u001B[39m final_df[\u001B[38;5;124m'\u001B[39m\u001B[38;5;124mYear\u001B[39m\u001B[38;5;124m'\u001B[39m]\u001B[38;5;241m.\u001B[39mastype(\u001B[38;5;28mint\u001B[39m)\n",
      "File \u001B[0;32m/mnt/datadisk/sharedPrograms/venv/water_2202_tf82/lib/python3.8/site-packages/pandas/core/frame.py:3512\u001B[0m, in \u001B[0;36mDataFrame.__getitem__\u001B[0;34m(self, key)\u001B[0m\n\u001B[1;32m   3510\u001B[0m     \u001B[38;5;28;01mif\u001B[39;00m is_iterator(key):\n\u001B[1;32m   3511\u001B[0m         key \u001B[38;5;241m=\u001B[39m \u001B[38;5;28mlist\u001B[39m(key)\n\u001B[0;32m-> 3512\u001B[0m     indexer \u001B[38;5;241m=\u001B[39m \u001B[38;5;28;43mself\u001B[39;49m\u001B[38;5;241;43m.\u001B[39;49m\u001B[43mcolumns\u001B[49m\u001B[38;5;241;43m.\u001B[39;49m\u001B[43m_get_indexer_strict\u001B[49m\u001B[43m(\u001B[49m\u001B[43mkey\u001B[49m\u001B[43m,\u001B[49m\u001B[43m \u001B[49m\u001B[38;5;124;43m\"\u001B[39;49m\u001B[38;5;124;43mcolumns\u001B[39;49m\u001B[38;5;124;43m\"\u001B[39;49m\u001B[43m)\u001B[49m[\u001B[38;5;241m1\u001B[39m]\n\u001B[1;32m   3514\u001B[0m \u001B[38;5;66;03m# take() does not accept boolean indexers\u001B[39;00m\n\u001B[1;32m   3515\u001B[0m \u001B[38;5;28;01mif\u001B[39;00m \u001B[38;5;28mgetattr\u001B[39m(indexer, \u001B[38;5;124m\"\u001B[39m\u001B[38;5;124mdtype\u001B[39m\u001B[38;5;124m\"\u001B[39m, \u001B[38;5;28;01mNone\u001B[39;00m) \u001B[38;5;241m==\u001B[39m \u001B[38;5;28mbool\u001B[39m:\n",
      "File \u001B[0;32m/mnt/datadisk/sharedPrograms/venv/water_2202_tf82/lib/python3.8/site-packages/pandas/core/indexes/base.py:5782\u001B[0m, in \u001B[0;36mIndex._get_indexer_strict\u001B[0;34m(self, key, axis_name)\u001B[0m\n\u001B[1;32m   5779\u001B[0m \u001B[38;5;28;01melse\u001B[39;00m:\n\u001B[1;32m   5780\u001B[0m     keyarr, indexer, new_indexer \u001B[38;5;241m=\u001B[39m \u001B[38;5;28mself\u001B[39m\u001B[38;5;241m.\u001B[39m_reindex_non_unique(keyarr)\n\u001B[0;32m-> 5782\u001B[0m \u001B[38;5;28;43mself\u001B[39;49m\u001B[38;5;241;43m.\u001B[39;49m\u001B[43m_raise_if_missing\u001B[49m\u001B[43m(\u001B[49m\u001B[43mkeyarr\u001B[49m\u001B[43m,\u001B[49m\u001B[43m \u001B[49m\u001B[43mindexer\u001B[49m\u001B[43m,\u001B[49m\u001B[43m \u001B[49m\u001B[43maxis_name\u001B[49m\u001B[43m)\u001B[49m\n\u001B[1;32m   5784\u001B[0m keyarr \u001B[38;5;241m=\u001B[39m \u001B[38;5;28mself\u001B[39m\u001B[38;5;241m.\u001B[39mtake(indexer)\n\u001B[1;32m   5785\u001B[0m \u001B[38;5;28;01mif\u001B[39;00m \u001B[38;5;28misinstance\u001B[39m(key, Index):\n\u001B[1;32m   5786\u001B[0m     \u001B[38;5;66;03m# GH 42790 - Preserve name from an Index\u001B[39;00m\n",
      "File \u001B[0;32m/mnt/datadisk/sharedPrograms/venv/water_2202_tf82/lib/python3.8/site-packages/pandas/core/indexes/base.py:5845\u001B[0m, in \u001B[0;36mIndex._raise_if_missing\u001B[0;34m(self, key, indexer, axis_name)\u001B[0m\n\u001B[1;32m   5842\u001B[0m     \u001B[38;5;28;01mraise\u001B[39;00m \u001B[38;5;167;01mKeyError\u001B[39;00m(\u001B[38;5;124mf\u001B[39m\u001B[38;5;124m\"\u001B[39m\u001B[38;5;124mNone of [\u001B[39m\u001B[38;5;132;01m{\u001B[39;00mkey\u001B[38;5;132;01m}\u001B[39;00m\u001B[38;5;124m] are in the [\u001B[39m\u001B[38;5;132;01m{\u001B[39;00maxis_name\u001B[38;5;132;01m}\u001B[39;00m\u001B[38;5;124m]\u001B[39m\u001B[38;5;124m\"\u001B[39m)\n\u001B[1;32m   5844\u001B[0m not_found \u001B[38;5;241m=\u001B[39m \u001B[38;5;28mlist\u001B[39m(ensure_index(key)[missing_mask\u001B[38;5;241m.\u001B[39mnonzero()[\u001B[38;5;241m0\u001B[39m]]\u001B[38;5;241m.\u001B[39munique())\n\u001B[0;32m-> 5845\u001B[0m \u001B[38;5;28;01mraise\u001B[39;00m \u001B[38;5;167;01mKeyError\u001B[39;00m(\u001B[38;5;124mf\u001B[39m\u001B[38;5;124m\"\u001B[39m\u001B[38;5;132;01m{\u001B[39;00mnot_found\u001B[38;5;132;01m}\u001B[39;00m\u001B[38;5;124m not in index\u001B[39m\u001B[38;5;124m\"\u001B[39m)\n",
      "\u001B[0;31mKeyError\u001B[0m: \"['Prediction normalized'] not in index\""
     ]
    }
   ],
   "source": [
    "final_df = moz[['adm2_name', 'DHSYEAR', 'Prediction normalized']]\n",
    "final_df = final_df.rename(columns={'Prediction normalized': 'Value', 'DHSYEAR': 'Year'})\n",
    "final_df['Year'] = final_df['Year'].astype(int)\n",
    "final_df['value_type'] = 'Predicted'\n",
    "final_df2 = moz[['adm2_name', 'DHSYEAR', 'Actual normalized']]\n",
    "final_df2 = final_df.rename(columns={'Actual normalized': 'Value', 'DHSYEAR': 'Year'})\n",
    "final_df2['Year'] = final_df['Year'].astype(int)\n",
    "final_df2['value_type'] = 'Actual'\n",
    "final_df2\n",
    "final_df = pd.concat([final_df, final_df2])\n",
    "#change column order\n",
    "final_df = final_df[['adm2_name', 'Year', 'value_type', 'Value']]\n",
    "final_df\n",
    "# final_df.to_csv('/mnt/datadisk/data/Projects/water/inputs/Moz_water_dashboard.csv', index=False)\n",
    "# final_df = final_df.rename(columns={'Prediction normalized': 'Prediction', 'Actual normalized': 'Actual'})\n"
   ],
   "metadata": {
    "collapsed": false,
    "ExecuteTime": {
     "end_time": "2023-05-24T12:40:33.028549399Z",
     "start_time": "2023-05-24T12:40:31.270001932Z"
    }
   }
  }
 ],
 "metadata": {
  "kernelspec": {
   "display_name": "Python 3",
   "language": "python",
   "name": "python3"
  },
  "language_info": {
   "codemirror_mode": {
    "name": "ipython",
    "version": 2
   },
   "file_extension": ".py",
   "mimetype": "text/x-python",
   "name": "python",
   "nbconvert_exporter": "python",
   "pygments_lexer": "ipython2",
   "version": "2.7.6"
  }
 },
 "nbformat": 4,
 "nbformat_minor": 0
}
