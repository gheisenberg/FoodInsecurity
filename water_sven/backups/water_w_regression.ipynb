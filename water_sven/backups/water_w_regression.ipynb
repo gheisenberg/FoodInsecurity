{
 "cells": [
  {
   "cell_type": "code",
   "execution_count": null,
   "outputs": [],
   "source": [
    "#!/usr/bin/env python\n",
    "# coding: utf-8\n",
    "\n",
    "###general imports\n",
    "import copy\n",
    "import os\n",
    "import shutil\n",
    "\n",
    "import matplotlib.pyplot as plt\n",
    "import pandas as pd\n",
    "import numpy as np\n",
    "from sklearn.metrics import classification_report, f1_score\n",
    "import keras\n",
    "import keras.backend as K\n",
    "import tensorflow as tf\n",
    "from tensorflow.keras import optimizers, layers\n",
    "from tensorflow.keras import losses\n",
    "from tensorflow.keras import callbacks\n",
    "from tensorflow.keras.layers.experimental import preprocessing\n",
    "from tensorflow.keras.models import Model\n",
    "import pickle\n",
    "import time\n",
    "import csv\n",
    "from functools import partial\n",
    "from sklearn.utils import class_weight\n",
    "from sklearn.preprocessing import StandardScaler, MinMaxScaler\n",
    "import scipy.stats as stats\n",
    "import tensorflow_addons as tfa\n",
    "import seaborn as sns\n",
    "import scipy\n",
    "import warnings\n",
    "import rasterio\n",
    "import math\n",
    "# from tensorflow.python.framework.ops import disable_eager_execution\n",
    "# disable_eager_execution()\n",
    "# warnings.filterwarnings(\"ignore\")\n",
    "# tf.autograph.set_verbosity(1)\n",
    "import sys\n",
    "\n",
    "import config\n",
    "###priv imports\n",
    "import config as cfg\n",
    "import visualizations\n",
    "import nn_utils as nnu\n",
    "import nn_models as nnm\n",
    "import helper_utils as hu\n",
    "import water_w_regression_methods as wrm\n",
    "# import geo_utils as gu"
   ],
   "metadata": {
    "collapsed": false
   }
  },
  {
   "cell_type": "code",
   "execution_count": null,
   "outputs": [],
   "source": [
    "#####This needs to be done before using tensorflow or keras (e.g. importing losses in config)\n",
    "###Some general information and settings\n",
    "# print some general information\n",
    "print('keras v', keras.__version__)\n",
    "print('tf keras v', tf.keras.__version__)\n",
    "print('tf v', tf.__version__)\n",
    "# to do: try non eager execution graph?\n",
    "print('tf eager execution', tf.executing_eagerly())\n",
    "# force channels-first ordering\n",
    "K.set_image_data_format('channels_first')\n",
    "print('Image data format', K.image_data_format())\n",
    "\n",
    "#turn off cryptic warnings, Note that you might miss important warnings! If unexpected stuff is happening turn it on!\n",
    "#https://github.com/tensorflow/tensorflow/issues/27023\n",
    "#Thanks @Mrs Przibylla\n",
    "#'1' = Infos, '2' = warnings, '3' = Errors\n",
    "#os.environ['TF_CPP_MIN_LOG_LEVEL'] = '2'\n",
    "\n",
    "# do not assign complete gpu-memory but grow it as needed\n",
    "# allows to run multiple models at once (otherwise whole gpu memory gets allocated/gpu gets blocked)\n",
    "gpus = tf.config.experimental.list_physical_devices('GPU')\n",
    "if gpus:\n",
    "    for gpu in gpus:\n",
    "        tf.config.experimental.set_memory_growth(gpu, True)\n",
    "\n",
    "###Define Model and MirroredStrategy (for mulit-gpu usage) - shall be initiated at the beginning of the program\n",
    "# Create a MirroredStrategy and pass the GPUs\n",
    "gpus = [\"GPU:\" + str(i) for i in cfg.gpus]\n",
    "# https://keras.io/guides/distributed_training/\n",
    "print('gpus', gpus)\n",
    "strategy = tf.distribute.MirroredStrategy(gpus)\n",
    "print('Number of GPUs MirroredStrategy: {}'.format(strategy.num_replicas_in_sync))"
   ],
   "metadata": {
    "collapsed": false
   }
  },
  {
   "cell_type": "code",
   "execution_count": null,
   "outputs": [],
   "source": [],
   "metadata": {
    "collapsed": false
   }
  }
 ],
 "metadata": {
  "kernelspec": {
   "display_name": "Python 3",
   "language": "python",
   "name": "python3"
  },
  "language_info": {
   "codemirror_mode": {
    "name": "ipython",
    "version": 2
   },
   "file_extension": ".py",
   "mimetype": "text/x-python",
   "name": "python",
   "nbconvert_exporter": "python",
   "pygments_lexer": "ipython2",
   "version": "2.7.6"
  }
 },
 "nbformat": 4,
 "nbformat_minor": 0
}
